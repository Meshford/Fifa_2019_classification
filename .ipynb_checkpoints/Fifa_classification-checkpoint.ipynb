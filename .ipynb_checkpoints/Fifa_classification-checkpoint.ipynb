{
 "cells": [
  {
   "cell_type": "markdown",
   "metadata": {},
   "source": [
    "# Fifa 2019 Classifcation"
   ]
  },
  {
   "cell_type": "code",
   "execution_count": 1,
   "metadata": {},
   "outputs": [],
   "source": [
    "import pandas as pd\n",
    "pd.options.mode.chained_assignment = None \n",
    "import numpy as np\n",
    "import matplotlib.pyplot as plt\n",
    "import seaborn as sns  "
   ]
  },
  {
   "cell_type": "code",
   "execution_count": 2,
   "metadata": {},
   "outputs": [
    {
     "data": {
      "text/html": [
       "<div>\n",
       "<style scoped>\n",
       "    .dataframe tbody tr th:only-of-type {\n",
       "        vertical-align: middle;\n",
       "    }\n",
       "\n",
       "    .dataframe tbody tr th {\n",
       "        vertical-align: top;\n",
       "    }\n",
       "\n",
       "    .dataframe thead th {\n",
       "        text-align: right;\n",
       "    }\n",
       "</style>\n",
       "<table border=\"1\" class=\"dataframe\">\n",
       "  <thead>\n",
       "    <tr style=\"text-align: right;\">\n",
       "      <th></th>\n",
       "      <th>Unnamed: 0</th>\n",
       "      <th>ID</th>\n",
       "      <th>Age</th>\n",
       "      <th>Photo</th>\n",
       "      <th>Nationality</th>\n",
       "      <th>Flag</th>\n",
       "      <th>Overall</th>\n",
       "      <th>Potential</th>\n",
       "      <th>Club</th>\n",
       "      <th>Club Logo</th>\n",
       "      <th>...</th>\n",
       "      <th>Composure</th>\n",
       "      <th>Marking</th>\n",
       "      <th>StandingTackle</th>\n",
       "      <th>SlidingTackle</th>\n",
       "      <th>GKDiving</th>\n",
       "      <th>GKHandling</th>\n",
       "      <th>GKKicking</th>\n",
       "      <th>GKPositioning</th>\n",
       "      <th>GKReflexes</th>\n",
       "      <th>Release Clause</th>\n",
       "    </tr>\n",
       "    <tr>\n",
       "      <th>Name</th>\n",
       "      <th></th>\n",
       "      <th></th>\n",
       "      <th></th>\n",
       "      <th></th>\n",
       "      <th></th>\n",
       "      <th></th>\n",
       "      <th></th>\n",
       "      <th></th>\n",
       "      <th></th>\n",
       "      <th></th>\n",
       "      <th></th>\n",
       "      <th></th>\n",
       "      <th></th>\n",
       "      <th></th>\n",
       "      <th></th>\n",
       "      <th></th>\n",
       "      <th></th>\n",
       "      <th></th>\n",
       "      <th></th>\n",
       "      <th></th>\n",
       "      <th></th>\n",
       "    </tr>\n",
       "  </thead>\n",
       "  <tbody>\n",
       "    <tr>\n",
       "      <th>L. Messi</th>\n",
       "      <td>0</td>\n",
       "      <td>158023</td>\n",
       "      <td>31</td>\n",
       "      <td>https://cdn.sofifa.org/players/4/19/158023.png</td>\n",
       "      <td>Argentina</td>\n",
       "      <td>https://cdn.sofifa.org/flags/52.png</td>\n",
       "      <td>94</td>\n",
       "      <td>94</td>\n",
       "      <td>FC Barcelona</td>\n",
       "      <td>https://cdn.sofifa.org/teams/2/light/241.png</td>\n",
       "      <td>...</td>\n",
       "      <td>96.0</td>\n",
       "      <td>33.0</td>\n",
       "      <td>28.0</td>\n",
       "      <td>26.0</td>\n",
       "      <td>6.0</td>\n",
       "      <td>11.0</td>\n",
       "      <td>15.0</td>\n",
       "      <td>14.0</td>\n",
       "      <td>8.0</td>\n",
       "      <td>€226.5M</td>\n",
       "    </tr>\n",
       "    <tr>\n",
       "      <th>Cristiano Ronaldo</th>\n",
       "      <td>1</td>\n",
       "      <td>20801</td>\n",
       "      <td>33</td>\n",
       "      <td>https://cdn.sofifa.org/players/4/19/20801.png</td>\n",
       "      <td>Portugal</td>\n",
       "      <td>https://cdn.sofifa.org/flags/38.png</td>\n",
       "      <td>94</td>\n",
       "      <td>94</td>\n",
       "      <td>Juventus</td>\n",
       "      <td>https://cdn.sofifa.org/teams/2/light/45.png</td>\n",
       "      <td>...</td>\n",
       "      <td>95.0</td>\n",
       "      <td>28.0</td>\n",
       "      <td>31.0</td>\n",
       "      <td>23.0</td>\n",
       "      <td>7.0</td>\n",
       "      <td>11.0</td>\n",
       "      <td>15.0</td>\n",
       "      <td>14.0</td>\n",
       "      <td>11.0</td>\n",
       "      <td>€127.1M</td>\n",
       "    </tr>\n",
       "    <tr>\n",
       "      <th>Neymar Jr</th>\n",
       "      <td>2</td>\n",
       "      <td>190871</td>\n",
       "      <td>26</td>\n",
       "      <td>https://cdn.sofifa.org/players/4/19/190871.png</td>\n",
       "      <td>Brazil</td>\n",
       "      <td>https://cdn.sofifa.org/flags/54.png</td>\n",
       "      <td>92</td>\n",
       "      <td>93</td>\n",
       "      <td>Paris Saint-Germain</td>\n",
       "      <td>https://cdn.sofifa.org/teams/2/light/73.png</td>\n",
       "      <td>...</td>\n",
       "      <td>94.0</td>\n",
       "      <td>27.0</td>\n",
       "      <td>24.0</td>\n",
       "      <td>33.0</td>\n",
       "      <td>9.0</td>\n",
       "      <td>9.0</td>\n",
       "      <td>15.0</td>\n",
       "      <td>15.0</td>\n",
       "      <td>11.0</td>\n",
       "      <td>€228.1M</td>\n",
       "    </tr>\n",
       "    <tr>\n",
       "      <th>De Gea</th>\n",
       "      <td>3</td>\n",
       "      <td>193080</td>\n",
       "      <td>27</td>\n",
       "      <td>https://cdn.sofifa.org/players/4/19/193080.png</td>\n",
       "      <td>Spain</td>\n",
       "      <td>https://cdn.sofifa.org/flags/45.png</td>\n",
       "      <td>91</td>\n",
       "      <td>93</td>\n",
       "      <td>Manchester United</td>\n",
       "      <td>https://cdn.sofifa.org/teams/2/light/11.png</td>\n",
       "      <td>...</td>\n",
       "      <td>68.0</td>\n",
       "      <td>15.0</td>\n",
       "      <td>21.0</td>\n",
       "      <td>13.0</td>\n",
       "      <td>90.0</td>\n",
       "      <td>85.0</td>\n",
       "      <td>87.0</td>\n",
       "      <td>88.0</td>\n",
       "      <td>94.0</td>\n",
       "      <td>€138.6M</td>\n",
       "    </tr>\n",
       "    <tr>\n",
       "      <th>K. De Bruyne</th>\n",
       "      <td>4</td>\n",
       "      <td>192985</td>\n",
       "      <td>27</td>\n",
       "      <td>https://cdn.sofifa.org/players/4/19/192985.png</td>\n",
       "      <td>Belgium</td>\n",
       "      <td>https://cdn.sofifa.org/flags/7.png</td>\n",
       "      <td>91</td>\n",
       "      <td>92</td>\n",
       "      <td>Manchester City</td>\n",
       "      <td>https://cdn.sofifa.org/teams/2/light/10.png</td>\n",
       "      <td>...</td>\n",
       "      <td>88.0</td>\n",
       "      <td>68.0</td>\n",
       "      <td>58.0</td>\n",
       "      <td>51.0</td>\n",
       "      <td>15.0</td>\n",
       "      <td>13.0</td>\n",
       "      <td>5.0</td>\n",
       "      <td>10.0</td>\n",
       "      <td>13.0</td>\n",
       "      <td>€196.4M</td>\n",
       "    </tr>\n",
       "    <tr>\n",
       "      <th>...</th>\n",
       "      <td>...</td>\n",
       "      <td>...</td>\n",
       "      <td>...</td>\n",
       "      <td>...</td>\n",
       "      <td>...</td>\n",
       "      <td>...</td>\n",
       "      <td>...</td>\n",
       "      <td>...</td>\n",
       "      <td>...</td>\n",
       "      <td>...</td>\n",
       "      <td>...</td>\n",
       "      <td>...</td>\n",
       "      <td>...</td>\n",
       "      <td>...</td>\n",
       "      <td>...</td>\n",
       "      <td>...</td>\n",
       "      <td>...</td>\n",
       "      <td>...</td>\n",
       "      <td>...</td>\n",
       "      <td>...</td>\n",
       "      <td>...</td>\n",
       "    </tr>\n",
       "    <tr>\n",
       "      <th>J. Lundstram</th>\n",
       "      <td>18202</td>\n",
       "      <td>238813</td>\n",
       "      <td>19</td>\n",
       "      <td>https://cdn.sofifa.org/players/4/19/238813.png</td>\n",
       "      <td>England</td>\n",
       "      <td>https://cdn.sofifa.org/flags/14.png</td>\n",
       "      <td>47</td>\n",
       "      <td>65</td>\n",
       "      <td>Crewe Alexandra</td>\n",
       "      <td>https://cdn.sofifa.org/teams/2/light/121.png</td>\n",
       "      <td>...</td>\n",
       "      <td>45.0</td>\n",
       "      <td>40.0</td>\n",
       "      <td>48.0</td>\n",
       "      <td>47.0</td>\n",
       "      <td>10.0</td>\n",
       "      <td>13.0</td>\n",
       "      <td>7.0</td>\n",
       "      <td>8.0</td>\n",
       "      <td>9.0</td>\n",
       "      <td>€143K</td>\n",
       "    </tr>\n",
       "    <tr>\n",
       "      <th>N. Christoffersson</th>\n",
       "      <td>18203</td>\n",
       "      <td>243165</td>\n",
       "      <td>19</td>\n",
       "      <td>https://cdn.sofifa.org/players/4/19/243165.png</td>\n",
       "      <td>Sweden</td>\n",
       "      <td>https://cdn.sofifa.org/flags/46.png</td>\n",
       "      <td>47</td>\n",
       "      <td>63</td>\n",
       "      <td>Trelleborgs FF</td>\n",
       "      <td>https://cdn.sofifa.org/teams/2/light/703.png</td>\n",
       "      <td>...</td>\n",
       "      <td>42.0</td>\n",
       "      <td>22.0</td>\n",
       "      <td>15.0</td>\n",
       "      <td>19.0</td>\n",
       "      <td>10.0</td>\n",
       "      <td>9.0</td>\n",
       "      <td>9.0</td>\n",
       "      <td>5.0</td>\n",
       "      <td>12.0</td>\n",
       "      <td>€113K</td>\n",
       "    </tr>\n",
       "    <tr>\n",
       "      <th>B. Worman</th>\n",
       "      <td>18204</td>\n",
       "      <td>241638</td>\n",
       "      <td>16</td>\n",
       "      <td>https://cdn.sofifa.org/players/4/19/241638.png</td>\n",
       "      <td>England</td>\n",
       "      <td>https://cdn.sofifa.org/flags/14.png</td>\n",
       "      <td>47</td>\n",
       "      <td>67</td>\n",
       "      <td>Cambridge United</td>\n",
       "      <td>https://cdn.sofifa.org/teams/2/light/1944.png</td>\n",
       "      <td>...</td>\n",
       "      <td>41.0</td>\n",
       "      <td>32.0</td>\n",
       "      <td>13.0</td>\n",
       "      <td>11.0</td>\n",
       "      <td>6.0</td>\n",
       "      <td>5.0</td>\n",
       "      <td>10.0</td>\n",
       "      <td>6.0</td>\n",
       "      <td>13.0</td>\n",
       "      <td>€165K</td>\n",
       "    </tr>\n",
       "    <tr>\n",
       "      <th>D. Walker-Rice</th>\n",
       "      <td>18205</td>\n",
       "      <td>246268</td>\n",
       "      <td>17</td>\n",
       "      <td>https://cdn.sofifa.org/players/4/19/246268.png</td>\n",
       "      <td>England</td>\n",
       "      <td>https://cdn.sofifa.org/flags/14.png</td>\n",
       "      <td>47</td>\n",
       "      <td>66</td>\n",
       "      <td>Tranmere Rovers</td>\n",
       "      <td>https://cdn.sofifa.org/teams/2/light/15048.png</td>\n",
       "      <td>...</td>\n",
       "      <td>46.0</td>\n",
       "      <td>20.0</td>\n",
       "      <td>25.0</td>\n",
       "      <td>27.0</td>\n",
       "      <td>14.0</td>\n",
       "      <td>6.0</td>\n",
       "      <td>14.0</td>\n",
       "      <td>8.0</td>\n",
       "      <td>9.0</td>\n",
       "      <td>€143K</td>\n",
       "    </tr>\n",
       "    <tr>\n",
       "      <th>G. Nugent</th>\n",
       "      <td>18206</td>\n",
       "      <td>246269</td>\n",
       "      <td>16</td>\n",
       "      <td>https://cdn.sofifa.org/players/4/19/246269.png</td>\n",
       "      <td>England</td>\n",
       "      <td>https://cdn.sofifa.org/flags/14.png</td>\n",
       "      <td>46</td>\n",
       "      <td>66</td>\n",
       "      <td>Tranmere Rovers</td>\n",
       "      <td>https://cdn.sofifa.org/teams/2/light/15048.png</td>\n",
       "      <td>...</td>\n",
       "      <td>43.0</td>\n",
       "      <td>40.0</td>\n",
       "      <td>43.0</td>\n",
       "      <td>50.0</td>\n",
       "      <td>10.0</td>\n",
       "      <td>15.0</td>\n",
       "      <td>9.0</td>\n",
       "      <td>12.0</td>\n",
       "      <td>9.0</td>\n",
       "      <td>€165K</td>\n",
       "    </tr>\n",
       "  </tbody>\n",
       "</table>\n",
       "<p>18207 rows × 88 columns</p>\n",
       "</div>"
      ],
      "text/plain": [
       "                    Unnamed: 0      ID  Age  \\\n",
       "Name                                          \n",
       "L. Messi                     0  158023   31   \n",
       "Cristiano Ronaldo            1   20801   33   \n",
       "Neymar Jr                    2  190871   26   \n",
       "De Gea                       3  193080   27   \n",
       "K. De Bruyne                 4  192985   27   \n",
       "...                        ...     ...  ...   \n",
       "J. Lundstram             18202  238813   19   \n",
       "N. Christoffersson       18203  243165   19   \n",
       "B. Worman                18204  241638   16   \n",
       "D. Walker-Rice           18205  246268   17   \n",
       "G. Nugent                18206  246269   16   \n",
       "\n",
       "                                                             Photo  \\\n",
       "Name                                                                 \n",
       "L. Messi            https://cdn.sofifa.org/players/4/19/158023.png   \n",
       "Cristiano Ronaldo    https://cdn.sofifa.org/players/4/19/20801.png   \n",
       "Neymar Jr           https://cdn.sofifa.org/players/4/19/190871.png   \n",
       "De Gea              https://cdn.sofifa.org/players/4/19/193080.png   \n",
       "K. De Bruyne        https://cdn.sofifa.org/players/4/19/192985.png   \n",
       "...                                                            ...   \n",
       "J. Lundstram        https://cdn.sofifa.org/players/4/19/238813.png   \n",
       "N. Christoffersson  https://cdn.sofifa.org/players/4/19/243165.png   \n",
       "B. Worman           https://cdn.sofifa.org/players/4/19/241638.png   \n",
       "D. Walker-Rice      https://cdn.sofifa.org/players/4/19/246268.png   \n",
       "G. Nugent           https://cdn.sofifa.org/players/4/19/246269.png   \n",
       "\n",
       "                   Nationality                                 Flag  Overall  \\\n",
       "Name                                                                           \n",
       "L. Messi             Argentina  https://cdn.sofifa.org/flags/52.png       94   \n",
       "Cristiano Ronaldo     Portugal  https://cdn.sofifa.org/flags/38.png       94   \n",
       "Neymar Jr               Brazil  https://cdn.sofifa.org/flags/54.png       92   \n",
       "De Gea                   Spain  https://cdn.sofifa.org/flags/45.png       91   \n",
       "K. De Bruyne           Belgium   https://cdn.sofifa.org/flags/7.png       91   \n",
       "...                        ...                                  ...      ...   \n",
       "J. Lundstram           England  https://cdn.sofifa.org/flags/14.png       47   \n",
       "N. Christoffersson      Sweden  https://cdn.sofifa.org/flags/46.png       47   \n",
       "B. Worman              England  https://cdn.sofifa.org/flags/14.png       47   \n",
       "D. Walker-Rice         England  https://cdn.sofifa.org/flags/14.png       47   \n",
       "G. Nugent              England  https://cdn.sofifa.org/flags/14.png       46   \n",
       "\n",
       "                    Potential                 Club  \\\n",
       "Name                                                 \n",
       "L. Messi                   94         FC Barcelona   \n",
       "Cristiano Ronaldo          94             Juventus   \n",
       "Neymar Jr                  93  Paris Saint-Germain   \n",
       "De Gea                     93    Manchester United   \n",
       "K. De Bruyne               92      Manchester City   \n",
       "...                       ...                  ...   \n",
       "J. Lundstram               65      Crewe Alexandra   \n",
       "N. Christoffersson         63       Trelleborgs FF   \n",
       "B. Worman                  67     Cambridge United   \n",
       "D. Walker-Rice             66      Tranmere Rovers   \n",
       "G. Nugent                  66      Tranmere Rovers   \n",
       "\n",
       "                                                         Club Logo  ...  \\\n",
       "Name                                                                ...   \n",
       "L. Messi              https://cdn.sofifa.org/teams/2/light/241.png  ...   \n",
       "Cristiano Ronaldo      https://cdn.sofifa.org/teams/2/light/45.png  ...   \n",
       "Neymar Jr              https://cdn.sofifa.org/teams/2/light/73.png  ...   \n",
       "De Gea                 https://cdn.sofifa.org/teams/2/light/11.png  ...   \n",
       "K. De Bruyne           https://cdn.sofifa.org/teams/2/light/10.png  ...   \n",
       "...                                                            ...  ...   \n",
       "J. Lundstram          https://cdn.sofifa.org/teams/2/light/121.png  ...   \n",
       "N. Christoffersson    https://cdn.sofifa.org/teams/2/light/703.png  ...   \n",
       "B. Worman            https://cdn.sofifa.org/teams/2/light/1944.png  ...   \n",
       "D. Walker-Rice      https://cdn.sofifa.org/teams/2/light/15048.png  ...   \n",
       "G. Nugent           https://cdn.sofifa.org/teams/2/light/15048.png  ...   \n",
       "\n",
       "                   Composure Marking  StandingTackle SlidingTackle  GKDiving  \\\n",
       "Name                                                                           \n",
       "L. Messi                96.0    33.0            28.0          26.0       6.0   \n",
       "Cristiano Ronaldo       95.0    28.0            31.0          23.0       7.0   \n",
       "Neymar Jr               94.0    27.0            24.0          33.0       9.0   \n",
       "De Gea                  68.0    15.0            21.0          13.0      90.0   \n",
       "K. De Bruyne            88.0    68.0            58.0          51.0      15.0   \n",
       "...                      ...     ...             ...           ...       ...   \n",
       "J. Lundstram            45.0    40.0            48.0          47.0      10.0   \n",
       "N. Christoffersson      42.0    22.0            15.0          19.0      10.0   \n",
       "B. Worman               41.0    32.0            13.0          11.0       6.0   \n",
       "D. Walker-Rice          46.0    20.0            25.0          27.0      14.0   \n",
       "G. Nugent               43.0    40.0            43.0          50.0      10.0   \n",
       "\n",
       "                    GKHandling  GKKicking GKPositioning GKReflexes  \\\n",
       "Name                                                                 \n",
       "L. Messi                  11.0       15.0          14.0        8.0   \n",
       "Cristiano Ronaldo         11.0       15.0          14.0       11.0   \n",
       "Neymar Jr                  9.0       15.0          15.0       11.0   \n",
       "De Gea                    85.0       87.0          88.0       94.0   \n",
       "K. De Bruyne              13.0        5.0          10.0       13.0   \n",
       "...                        ...        ...           ...        ...   \n",
       "J. Lundstram              13.0        7.0           8.0        9.0   \n",
       "N. Christoffersson         9.0        9.0           5.0       12.0   \n",
       "B. Worman                  5.0       10.0           6.0       13.0   \n",
       "D. Walker-Rice             6.0       14.0           8.0        9.0   \n",
       "G. Nugent                 15.0        9.0          12.0        9.0   \n",
       "\n",
       "                   Release Clause  \n",
       "Name                               \n",
       "L. Messi                  €226.5M  \n",
       "Cristiano Ronaldo         €127.1M  \n",
       "Neymar Jr                 €228.1M  \n",
       "De Gea                    €138.6M  \n",
       "K. De Bruyne              €196.4M  \n",
       "...                           ...  \n",
       "J. Lundstram                €143K  \n",
       "N. Christoffersson          €113K  \n",
       "B. Worman                   €165K  \n",
       "D. Walker-Rice              €143K  \n",
       "G. Nugent                   €165K  \n",
       "\n",
       "[18207 rows x 88 columns]"
      ]
     },
     "execution_count": 2,
     "metadata": {},
     "output_type": "execute_result"
    }
   ],
   "source": [
    "data=pd.read_csv(\"data.csv\",index_col=2)\n",
    "data"
   ]
  },
  {
   "cell_type": "markdown",
   "metadata": {},
   "source": [
    "# Task:"
   ]
  },
  {
   "cell_type": "markdown",
   "metadata": {},
   "source": [
    "Carry out the classification of the feature 'position',which represents the player's position on the football field"
   ]
  },
  {
   "cell_type": "markdown",
   "metadata": {},
   "source": [
    "# Description data"
   ]
  },
  {
   "cell_type": "markdown",
   "metadata": {},
   "source": [
    "The data represent the playing characteristics of football players in the FIFA 2019 computer game.\n",
    "Description of Each Feature:  \n",
    "\n",
    "**Position** :- at which position he plays  \n",
    "\n",
    "**Name** :- Name of the player  \n",
    "**Age** :- Age of the player  \n",
    "**Photo** :- small pic of the player  \n",
    "**Nationality** : of the player to which country he belongs  \n",
    "**flag** :- flag of the country, to whcihc the player belongs to  \n",
    "**Overall** :- out of 100 point how much he scored  \n",
    "**Potential** :- score for career mode of the game, as for Career Mode Potential is important  \n",
    "**club** :- for which club, the player plays for\n",
    "**value** :- price in Euro is which the player could be sold  \n",
    "**wage**: how much he have salary  \n",
    "**International.Reputation** :- how much popular in real world  \n",
    "**Body.Type** :- what is his body type  \n",
    "**Real Face**:- game uses real face  \n",
    "**Jersey.Number** : what is his jersey number  \n",
    "**Loaned.From **: whether he is loaned from other club  \n",
    "**contract.Valid.until** :- till which year their contract is valid with current club  \n",
    "**Height** : height in feet and inches  \n",
    "**weight** : weight in pounds  \n",
    "\n",
    "**link to know more :https://www.usgamer.net/articles/09-05-2019-fifa-19-best-players-  \n",
    "best- fut-19-players-fifa-19-player-ratings/fifa-19-best-skill-players**"
   ]
  },
  {
   "cell_type": "markdown",
   "metadata": {},
   "source": [
    "# Processing data"
   ]
  },
  {
   "cell_type": "code",
   "execution_count": 3,
   "metadata": {},
   "outputs": [
    {
     "data": {
      "text/plain": [
       "ST     2152\n",
       "GK     2025\n",
       "CB     1778\n",
       "CM     1394\n",
       "LB     1322\n",
       "RB     1291\n",
       "RM     1124\n",
       "LM     1095\n",
       "CAM     958\n",
       "CDM     948\n",
       "RCB     662\n",
       "LCB     648\n",
       "LCM     395\n",
       "RCM     391\n",
       "LW      381\n",
       "RW      370\n",
       "RDM     248\n",
       "LDM     243\n",
       "LS      207\n",
       "RS      203\n",
       "RWB      87\n",
       "LWB      78\n",
       "CF       74\n",
       "RAM      21\n",
       "LAM      21\n",
       "RF       16\n",
       "LF       15\n",
       "Name: Position, dtype: int64"
      ]
     },
     "execution_count": 3,
     "metadata": {},
     "output_type": "execute_result"
    }
   ],
   "source": [
    "data['Position'].value_counts()"
   ]
  },
  {
   "attachments": {
    "image.png": {
     "image/png": "[encoded data removed]"
    }
   },
   "cell_type": "markdown",
   "metadata": {},
   "source": [
    "![image.png](attachment:image.png)"
   ]
  },
  {
   "cell_type": "code",
   "execution_count": 4,
   "metadata": {},
   "outputs": [],
   "source": [
    "for i in range(0,len(data[\"Position\"])):\n",
    "    if data['Position'][i]=='LS' or data['Position'][i]=='ST' or  data['Position'][i]=='RS' or  data['Position'][i]=='LW' or  data['Position'][i]=='LF' or  data['Position'][i]=='CF' or data['Position'][i]=='RF' or  data['Position'][i]=='RW':\n",
    "        data['Position'][i]='Striker'\n",
    "    if data['Position'][i]=='LAM' or data['Position'][i]=='CAM' or data['Position'][i]=='RAM' or data['Position'][i]=='LM'  or data['Position'][i]=='LCM' or data['Position'][i]=='CM' or data['Position'][i]=='RCM' or data['Position'][i]=='RM':\n",
    "        data['Position'][i]=\"Midfielder\"\n",
    "    if data['Position'][i]=='LWB' or data['Position'][i]=='LDM' or data['Position'][i]=='CDM' or data['Position'][i]=='RDM' or data['Position'][i]=='RWB' or data['Position'][i]=='LB' or data['Position'][i]=='LCB' or data['Position'][i]=='CB' or data['Position'][i]=='RCB' or data['Position'][i]=='RB':\n",
    "        data['Position'][i]='Defender'\n",
    "    if data['Position'][i]=='GK':\n",
    "        data['Position'][i]='Goalkeeper'"
   ]
  },
  {
   "cell_type": "markdown",
   "metadata": {},
   "source": [
    "В данных очень много ненужных признаков, поэтому перед непосредественной обработкой данных необходимо удалить те признаки, которые не стоит вовсе обрабатывать. Их лучше выкинуть из-за ненадобности."
   ]
  },
  {
   "cell_type": "code",
   "execution_count": 50,
   "metadata": {},
   "outputs": [
    {
     "ename": "KeyError",
     "evalue": "'Position'",
     "output_type": "error",
     "traceback": [
      "\u001b[1;31m---------------------------------------------------------------------------\u001b[0m",
      "\u001b[1;31mKeyError\u001b[0m                                  Traceback (most recent call last)",
      "\u001b[1;32mC:\\ANACONDA\\lib\\site-packages\\pandas\\core\\indexes\\base.py\u001b[0m in \u001b[0;36mget_loc\u001b[1;34m(self, key, method, tolerance)\u001b[0m\n\u001b[0;32m   2645\u001b[0m             \u001b[1;32mtry\u001b[0m\u001b[1;33m:\u001b[0m\u001b[1;33m\u001b[0m\u001b[1;33m\u001b[0m\u001b[0m\n\u001b[1;32m-> 2646\u001b[1;33m                 \u001b[1;32mreturn\u001b[0m \u001b[0mself\u001b[0m\u001b[1;33m.\u001b[0m\u001b[0m_engine\u001b[0m\u001b[1;33m.\u001b[0m\u001b[0mget_loc\u001b[0m\u001b[1;33m(\u001b[0m\u001b[0mkey\u001b[0m\u001b[1;33m)\u001b[0m\u001b[1;33m\u001b[0m\u001b[1;33m\u001b[0m\u001b[0m\n\u001b[0m\u001b[0;32m   2647\u001b[0m             \u001b[1;32mexcept\u001b[0m \u001b[0mKeyError\u001b[0m\u001b[1;33m:\u001b[0m\u001b[1;33m\u001b[0m\u001b[1;33m\u001b[0m\u001b[0m\n",
      "\u001b[1;32mpandas\\_libs\\index.pyx\u001b[0m in \u001b[0;36mpandas._libs.index.IndexEngine.get_loc\u001b[1;34m()\u001b[0m\n",
      "\u001b[1;32mpandas\\_libs\\index.pyx\u001b[0m in \u001b[0;36mpandas._libs.index.IndexEngine.get_loc\u001b[1;34m()\u001b[0m\n",
      "\u001b[1;32mpandas\\_libs\\hashtable_class_helper.pxi\u001b[0m in \u001b[0;36mpandas._libs.hashtable.PyObjectHashTable.get_item\u001b[1;34m()\u001b[0m\n",
      "\u001b[1;32mpandas\\_libs\\hashtable_class_helper.pxi\u001b[0m in \u001b[0;36mpandas._libs.hashtable.PyObjectHashTable.get_item\u001b[1;34m()\u001b[0m\n",
      "\u001b[1;31mKeyError\u001b[0m: 'Position'",
      "\nDuring handling of the above exception, another exception occurred:\n",
      "\u001b[1;31mKeyError\u001b[0m                                  Traceback (most recent call last)",
      "\u001b[1;32m<ipython-input-50-cada5afc7a8e>\u001b[0m in \u001b[0;36m<module>\u001b[1;34m\u001b[0m\n\u001b[1;32m----> 1\u001b[1;33m \u001b[0mdata\u001b[0m\u001b[1;33m[\u001b[0m\u001b[1;34m'Position'\u001b[0m\u001b[1;33m]\u001b[0m\u001b[1;33m\u001b[0m\u001b[1;33m\u001b[0m\u001b[0m\n\u001b[0m",
      "\u001b[1;32mC:\\ANACONDA\\lib\\site-packages\\pandas\\core\\frame.py\u001b[0m in \u001b[0;36m__getitem__\u001b[1;34m(self, key)\u001b[0m\n\u001b[0;32m   2798\u001b[0m             \u001b[1;32mif\u001b[0m \u001b[0mself\u001b[0m\u001b[1;33m.\u001b[0m\u001b[0mcolumns\u001b[0m\u001b[1;33m.\u001b[0m\u001b[0mnlevels\u001b[0m \u001b[1;33m>\u001b[0m \u001b[1;36m1\u001b[0m\u001b[1;33m:\u001b[0m\u001b[1;33m\u001b[0m\u001b[1;33m\u001b[0m\u001b[0m\n\u001b[0;32m   2799\u001b[0m                 \u001b[1;32mreturn\u001b[0m \u001b[0mself\u001b[0m\u001b[1;33m.\u001b[0m\u001b[0m_getitem_multilevel\u001b[0m\u001b[1;33m(\u001b[0m\u001b[0mkey\u001b[0m\u001b[1;33m)\u001b[0m\u001b[1;33m\u001b[0m\u001b[1;33m\u001b[0m\u001b[0m\n\u001b[1;32m-> 2800\u001b[1;33m             \u001b[0mindexer\u001b[0m \u001b[1;33m=\u001b[0m \u001b[0mself\u001b[0m\u001b[1;33m.\u001b[0m\u001b[0mcolumns\u001b[0m\u001b[1;33m.\u001b[0m\u001b[0mget_loc\u001b[0m\u001b[1;33m(\u001b[0m\u001b[0mkey\u001b[0m\u001b[1;33m)\u001b[0m\u001b[1;33m\u001b[0m\u001b[1;33m\u001b[0m\u001b[0m\n\u001b[0m\u001b[0;32m   2801\u001b[0m             \u001b[1;32mif\u001b[0m \u001b[0mis_integer\u001b[0m\u001b[1;33m(\u001b[0m\u001b[0mindexer\u001b[0m\u001b[1;33m)\u001b[0m\u001b[1;33m:\u001b[0m\u001b[1;33m\u001b[0m\u001b[1;33m\u001b[0m\u001b[0m\n\u001b[0;32m   2802\u001b[0m                 \u001b[0mindexer\u001b[0m \u001b[1;33m=\u001b[0m \u001b[1;33m[\u001b[0m\u001b[0mindexer\u001b[0m\u001b[1;33m]\u001b[0m\u001b[1;33m\u001b[0m\u001b[1;33m\u001b[0m\u001b[0m\n",
      "\u001b[1;32mC:\\ANACONDA\\lib\\site-packages\\pandas\\core\\indexes\\base.py\u001b[0m in \u001b[0;36mget_loc\u001b[1;34m(self, key, method, tolerance)\u001b[0m\n\u001b[0;32m   2646\u001b[0m                 \u001b[1;32mreturn\u001b[0m \u001b[0mself\u001b[0m\u001b[1;33m.\u001b[0m\u001b[0m_engine\u001b[0m\u001b[1;33m.\u001b[0m\u001b[0mget_loc\u001b[0m\u001b[1;33m(\u001b[0m\u001b[0mkey\u001b[0m\u001b[1;33m)\u001b[0m\u001b[1;33m\u001b[0m\u001b[1;33m\u001b[0m\u001b[0m\n\u001b[0;32m   2647\u001b[0m             \u001b[1;32mexcept\u001b[0m \u001b[0mKeyError\u001b[0m\u001b[1;33m:\u001b[0m\u001b[1;33m\u001b[0m\u001b[1;33m\u001b[0m\u001b[0m\n\u001b[1;32m-> 2648\u001b[1;33m                 \u001b[1;32mreturn\u001b[0m \u001b[0mself\u001b[0m\u001b[1;33m.\u001b[0m\u001b[0m_engine\u001b[0m\u001b[1;33m.\u001b[0m\u001b[0mget_loc\u001b[0m\u001b[1;33m(\u001b[0m\u001b[0mself\u001b[0m\u001b[1;33m.\u001b[0m\u001b[0m_maybe_cast_indexer\u001b[0m\u001b[1;33m(\u001b[0m\u001b[0mkey\u001b[0m\u001b[1;33m)\u001b[0m\u001b[1;33m)\u001b[0m\u001b[1;33m\u001b[0m\u001b[1;33m\u001b[0m\u001b[0m\n\u001b[0m\u001b[0;32m   2649\u001b[0m         \u001b[0mindexer\u001b[0m \u001b[1;33m=\u001b[0m \u001b[0mself\u001b[0m\u001b[1;33m.\u001b[0m\u001b[0mget_indexer\u001b[0m\u001b[1;33m(\u001b[0m\u001b[1;33m[\u001b[0m\u001b[0mkey\u001b[0m\u001b[1;33m]\u001b[0m\u001b[1;33m,\u001b[0m \u001b[0mmethod\u001b[0m\u001b[1;33m=\u001b[0m\u001b[0mmethod\u001b[0m\u001b[1;33m,\u001b[0m \u001b[0mtolerance\u001b[0m\u001b[1;33m=\u001b[0m\u001b[0mtolerance\u001b[0m\u001b[1;33m)\u001b[0m\u001b[1;33m\u001b[0m\u001b[1;33m\u001b[0m\u001b[0m\n\u001b[0;32m   2650\u001b[0m         \u001b[1;32mif\u001b[0m \u001b[0mindexer\u001b[0m\u001b[1;33m.\u001b[0m\u001b[0mndim\u001b[0m \u001b[1;33m>\u001b[0m \u001b[1;36m1\u001b[0m \u001b[1;32mor\u001b[0m \u001b[0mindexer\u001b[0m\u001b[1;33m.\u001b[0m\u001b[0msize\u001b[0m \u001b[1;33m>\u001b[0m \u001b[1;36m1\u001b[0m\u001b[1;33m:\u001b[0m\u001b[1;33m\u001b[0m\u001b[1;33m\u001b[0m\u001b[0m\n",
      "\u001b[1;32mpandas\\_libs\\index.pyx\u001b[0m in \u001b[0;36mpandas._libs.index.IndexEngine.get_loc\u001b[1;34m()\u001b[0m\n",
      "\u001b[1;32mpandas\\_libs\\index.pyx\u001b[0m in \u001b[0;36mpandas._libs.index.IndexEngine.get_loc\u001b[1;34m()\u001b[0m\n",
      "\u001b[1;32mpandas\\_libs\\hashtable_class_helper.pxi\u001b[0m in \u001b[0;36mpandas._libs.hashtable.PyObjectHashTable.get_item\u001b[1;34m()\u001b[0m\n",
      "\u001b[1;32mpandas\\_libs\\hashtable_class_helper.pxi\u001b[0m in \u001b[0;36mpandas._libs.hashtable.PyObjectHashTable.get_item\u001b[1;34m()\u001b[0m\n",
      "\u001b[1;31mKeyError\u001b[0m: 'Position'"
     ]
    }
   ],
   "source": [
    "data['Position'].value_counts()"
   ]
  },
  {
   "cell_type": "code",
   "execution_count": 6,
   "metadata": {},
   "outputs": [
    {
     "name": "stdout",
     "output_type": "stream",
     "text": [
      "['Unnamed: 0', 'ID', 'Age', 'Photo', 'Nationality', 'Flag', 'Overall', 'Potential', 'Club', 'Club Logo', 'Value', 'Wage', 'Special', 'Preferred Foot', 'International Reputation', 'Weak Foot', 'Skill Moves', 'Work Rate', 'Body Type', 'Real Face', 'Position', 'Jersey Number', 'Joined', 'Loaned From', 'Contract Valid Until', 'Height', 'Weight', 'LS', 'ST', 'RS', 'LW', 'LF', 'CF', 'RF', 'RW', 'LAM', 'CAM', 'RAM', 'LM', 'LCM', 'CM', 'RCM', 'RM', 'LWB', 'LDM', 'CDM', 'RDM', 'RWB', 'LB', 'LCB', 'CB', 'RCB', 'RB', 'Crossing', 'Finishing', 'HeadingAccuracy', 'ShortPassing', 'Volleys', 'Dribbling', 'Curve', 'FKAccuracy', 'LongPassing', 'BallControl', 'Acceleration', 'SprintSpeed', 'Agility', 'Reactions', 'Balance', 'ShotPower', 'Jumping', 'Stamina', 'Strength', 'LongShots', 'Aggression', 'Interceptions', 'Positioning', 'Vision', 'Penalties', 'Composure', 'Marking', 'StandingTackle', 'SlidingTackle', 'GKDiving', 'GKHandling', 'GKKicking', 'GKPositioning', 'GKReflexes', 'Release Clause']\n"
     ]
    }
   ],
   "source": [
    "#print(data.columns.tolist()) #смотрим все признаки"
   ]
  },
  {
   "cell_type": "code",
   "execution_count": 7,
   "metadata": {},
   "outputs": [
    {
     "name": "stdout",
     "output_type": "stream",
     "text": [
      "['Age', 'Nationality', 'Overall', 'Potential', 'Value', 'Wage', 'Special', 'Preferred Foot', 'International Reputation', 'Weak Foot', 'Skill Moves', 'Position', 'Height', 'Weight', 'LS', 'ST', 'RS', 'LW', 'LF', 'CF', 'RF', 'RW', 'LAM', 'CAM', 'RAM', 'LM', 'LCM', 'CM', 'RCM', 'RM', 'LWB', 'LDM', 'CDM', 'RDM', 'RWB', 'LB', 'LCB', 'CB', 'RCB', 'RB', 'Crossing', 'Finishing', 'HeadingAccuracy', 'ShortPassing', 'Volleys', 'Dribbling', 'Curve', 'FKAccuracy', 'LongPassing', 'BallControl', 'Acceleration', 'SprintSpeed', 'Agility', 'Reactions', 'Balance', 'ShotPower', 'Jumping', 'Stamina', 'Strength', 'LongShots', 'Aggression', 'Interceptions', 'Positioning', 'Vision', 'Penalties', 'Composure', 'Marking', 'StandingTackle', 'SlidingTackle', 'GKDiving', 'GKHandling', 'GKKicking', 'GKPositioning', 'GKReflexes']\n"
     ]
    }
   ],
   "source": [
    "data.drop(['ID','Unnamed: 0','Photo','Flag','Club Logo','Loaned From','Jersey Number','Real Face','Release Clause','Work Rate','Body Type','Joined','Contract Valid Until','Club'], axis=1, inplace=True)\n",
    "#print(data.columns.tolist()) #смотрим все признаки"
   ]
  },
  {
   "cell_type": "code",
   "execution_count": 8,
   "metadata": {},
   "outputs": [
    {
     "data": {
      "text/html": [
       "<div>\n",
       "<style scoped>\n",
       "    .dataframe tbody tr th:only-of-type {\n",
       "        vertical-align: middle;\n",
       "    }\n",
       "\n",
       "    .dataframe tbody tr th {\n",
       "        vertical-align: top;\n",
       "    }\n",
       "\n",
       "    .dataframe thead th {\n",
       "        text-align: right;\n",
       "    }\n",
       "</style>\n",
       "<table border=\"1\" class=\"dataframe\">\n",
       "  <thead>\n",
       "    <tr style=\"text-align: right;\">\n",
       "      <th></th>\n",
       "      <th>Age</th>\n",
       "      <th>Nationality</th>\n",
       "      <th>Overall</th>\n",
       "      <th>Potential</th>\n",
       "      <th>Value</th>\n",
       "      <th>Wage</th>\n",
       "      <th>Special</th>\n",
       "      <th>Preferred Foot</th>\n",
       "      <th>International Reputation</th>\n",
       "      <th>Weak Foot</th>\n",
       "      <th>...</th>\n",
       "      <th>Penalties</th>\n",
       "      <th>Composure</th>\n",
       "      <th>Marking</th>\n",
       "      <th>StandingTackle</th>\n",
       "      <th>SlidingTackle</th>\n",
       "      <th>GKDiving</th>\n",
       "      <th>GKHandling</th>\n",
       "      <th>GKKicking</th>\n",
       "      <th>GKPositioning</th>\n",
       "      <th>GKReflexes</th>\n",
       "    </tr>\n",
       "    <tr>\n",
       "      <th>Name</th>\n",
       "      <th></th>\n",
       "      <th></th>\n",
       "      <th></th>\n",
       "      <th></th>\n",
       "      <th></th>\n",
       "      <th></th>\n",
       "      <th></th>\n",
       "      <th></th>\n",
       "      <th></th>\n",
       "      <th></th>\n",
       "      <th></th>\n",
       "      <th></th>\n",
       "      <th></th>\n",
       "      <th></th>\n",
       "      <th></th>\n",
       "      <th></th>\n",
       "      <th></th>\n",
       "      <th></th>\n",
       "      <th></th>\n",
       "      <th></th>\n",
       "      <th></th>\n",
       "    </tr>\n",
       "  </thead>\n",
       "  <tbody>\n",
       "    <tr>\n",
       "      <th>L. Messi</th>\n",
       "      <td>31</td>\n",
       "      <td>Argentina</td>\n",
       "      <td>94</td>\n",
       "      <td>94</td>\n",
       "      <td>€110.5M</td>\n",
       "      <td>€565K</td>\n",
       "      <td>2202</td>\n",
       "      <td>Left</td>\n",
       "      <td>5.0</td>\n",
       "      <td>4.0</td>\n",
       "      <td>...</td>\n",
       "      <td>75.0</td>\n",
       "      <td>96.0</td>\n",
       "      <td>33.0</td>\n",
       "      <td>28.0</td>\n",
       "      <td>26.0</td>\n",
       "      <td>6.0</td>\n",
       "      <td>11.0</td>\n",
       "      <td>15.0</td>\n",
       "      <td>14.0</td>\n",
       "      <td>8.0</td>\n",
       "    </tr>\n",
       "    <tr>\n",
       "      <th>Cristiano Ronaldo</th>\n",
       "      <td>33</td>\n",
       "      <td>Portugal</td>\n",
       "      <td>94</td>\n",
       "      <td>94</td>\n",
       "      <td>€77M</td>\n",
       "      <td>€405K</td>\n",
       "      <td>2228</td>\n",
       "      <td>Right</td>\n",
       "      <td>5.0</td>\n",
       "      <td>4.0</td>\n",
       "      <td>...</td>\n",
       "      <td>85.0</td>\n",
       "      <td>95.0</td>\n",
       "      <td>28.0</td>\n",
       "      <td>31.0</td>\n",
       "      <td>23.0</td>\n",
       "      <td>7.0</td>\n",
       "      <td>11.0</td>\n",
       "      <td>15.0</td>\n",
       "      <td>14.0</td>\n",
       "      <td>11.0</td>\n",
       "    </tr>\n",
       "    <tr>\n",
       "      <th>Neymar Jr</th>\n",
       "      <td>26</td>\n",
       "      <td>Brazil</td>\n",
       "      <td>92</td>\n",
       "      <td>93</td>\n",
       "      <td>€118.5M</td>\n",
       "      <td>€290K</td>\n",
       "      <td>2143</td>\n",
       "      <td>Right</td>\n",
       "      <td>5.0</td>\n",
       "      <td>5.0</td>\n",
       "      <td>...</td>\n",
       "      <td>81.0</td>\n",
       "      <td>94.0</td>\n",
       "      <td>27.0</td>\n",
       "      <td>24.0</td>\n",
       "      <td>33.0</td>\n",
       "      <td>9.0</td>\n",
       "      <td>9.0</td>\n",
       "      <td>15.0</td>\n",
       "      <td>15.0</td>\n",
       "      <td>11.0</td>\n",
       "    </tr>\n",
       "    <tr>\n",
       "      <th>De Gea</th>\n",
       "      <td>27</td>\n",
       "      <td>Spain</td>\n",
       "      <td>91</td>\n",
       "      <td>93</td>\n",
       "      <td>€72M</td>\n",
       "      <td>€260K</td>\n",
       "      <td>1471</td>\n",
       "      <td>Right</td>\n",
       "      <td>4.0</td>\n",
       "      <td>3.0</td>\n",
       "      <td>...</td>\n",
       "      <td>40.0</td>\n",
       "      <td>68.0</td>\n",
       "      <td>15.0</td>\n",
       "      <td>21.0</td>\n",
       "      <td>13.0</td>\n",
       "      <td>90.0</td>\n",
       "      <td>85.0</td>\n",
       "      <td>87.0</td>\n",
       "      <td>88.0</td>\n",
       "      <td>94.0</td>\n",
       "    </tr>\n",
       "    <tr>\n",
       "      <th>K. De Bruyne</th>\n",
       "      <td>27</td>\n",
       "      <td>Belgium</td>\n",
       "      <td>91</td>\n",
       "      <td>92</td>\n",
       "      <td>€102M</td>\n",
       "      <td>€355K</td>\n",
       "      <td>2281</td>\n",
       "      <td>Right</td>\n",
       "      <td>4.0</td>\n",
       "      <td>5.0</td>\n",
       "      <td>...</td>\n",
       "      <td>79.0</td>\n",
       "      <td>88.0</td>\n",
       "      <td>68.0</td>\n",
       "      <td>58.0</td>\n",
       "      <td>51.0</td>\n",
       "      <td>15.0</td>\n",
       "      <td>13.0</td>\n",
       "      <td>5.0</td>\n",
       "      <td>10.0</td>\n",
       "      <td>13.0</td>\n",
       "    </tr>\n",
       "  </tbody>\n",
       "</table>\n",
       "<p>5 rows × 74 columns</p>\n",
       "</div>"
      ],
      "text/plain": [
       "                   Age Nationality  Overall  Potential    Value   Wage  \\\n",
       "Name                                                                     \n",
       "L. Messi            31   Argentina       94         94  €110.5M  €565K   \n",
       "Cristiano Ronaldo   33    Portugal       94         94     €77M  €405K   \n",
       "Neymar Jr           26      Brazil       92         93  €118.5M  €290K   \n",
       "De Gea              27       Spain       91         93     €72M  €260K   \n",
       "K. De Bruyne        27     Belgium       91         92    €102M  €355K   \n",
       "\n",
       "                   Special Preferred Foot  International Reputation  \\\n",
       "Name                                                                  \n",
       "L. Messi              2202           Left                       5.0   \n",
       "Cristiano Ronaldo     2228          Right                       5.0   \n",
       "Neymar Jr             2143          Right                       5.0   \n",
       "De Gea                1471          Right                       4.0   \n",
       "K. De Bruyne          2281          Right                       4.0   \n",
       "\n",
       "                   Weak Foot  ...  Penalties Composure Marking StandingTackle  \\\n",
       "Name                          ...                                               \n",
       "L. Messi                 4.0  ...       75.0      96.0    33.0           28.0   \n",
       "Cristiano Ronaldo        4.0  ...       85.0      95.0    28.0           31.0   \n",
       "Neymar Jr                5.0  ...       81.0      94.0    27.0           24.0   \n",
       "De Gea                   3.0  ...       40.0      68.0    15.0           21.0   \n",
       "K. De Bruyne             5.0  ...       79.0      88.0    68.0           58.0   \n",
       "\n",
       "                  SlidingTackle GKDiving GKHandling GKKicking GKPositioning  \\\n",
       "Name                                                                          \n",
       "L. Messi                   26.0      6.0       11.0      15.0          14.0   \n",
       "Cristiano Ronaldo          23.0      7.0       11.0      15.0          14.0   \n",
       "Neymar Jr                  33.0      9.0        9.0      15.0          15.0   \n",
       "De Gea                     13.0     90.0       85.0      87.0          88.0   \n",
       "K. De Bruyne               51.0     15.0       13.0       5.0          10.0   \n",
       "\n",
       "                  GKReflexes  \n",
       "Name                          \n",
       "L. Messi                 8.0  \n",
       "Cristiano Ronaldo       11.0  \n",
       "Neymar Jr               11.0  \n",
       "De Gea                  94.0  \n",
       "K. De Bruyne            13.0  \n",
       "\n",
       "[5 rows x 74 columns]"
      ]
     },
     "execution_count": 8,
     "metadata": {},
     "output_type": "execute_result"
    }
   ],
   "source": [
    "data.head()"
   ]
  },
  {
   "cell_type": "code",
   "execution_count": 9,
   "metadata": {},
   "outputs": [
    {
     "name": "stdout",
     "output_type": "stream",
     "text": [
      "<class 'pandas.core.frame.DataFrame'>\n",
      "Index: 18207 entries, L. Messi to G. Nugent\n",
      "Data columns (total 74 columns):\n",
      " #   Column                    Non-Null Count  Dtype  \n",
      "---  ------                    --------------  -----  \n",
      " 0   Age                       18207 non-null  int64  \n",
      " 1   Nationality               18207 non-null  object \n",
      " 2   Overall                   18207 non-null  int64  \n",
      " 3   Potential                 18207 non-null  int64  \n",
      " 4   Value                     18207 non-null  object \n",
      " 5   Wage                      18207 non-null  object \n",
      " 6   Special                   18207 non-null  int64  \n",
      " 7   Preferred Foot            18159 non-null  object \n",
      " 8   International Reputation  18159 non-null  float64\n",
      " 9   Weak Foot                 18159 non-null  float64\n",
      " 10  Skill Moves               18159 non-null  float64\n",
      " 11  Position                  18147 non-null  object \n",
      " 12  Height                    18159 non-null  object \n",
      " 13  Weight                    18159 non-null  object \n",
      " 14  LS                        16122 non-null  object \n",
      " 15  ST                        16122 non-null  object \n",
      " 16  RS                        16122 non-null  object \n",
      " 17  LW                        16122 non-null  object \n",
      " 18  LF                        16122 non-null  object \n",
      " 19  CF                        16122 non-null  object \n",
      " 20  RF                        16122 non-null  object \n",
      " 21  RW                        16122 non-null  object \n",
      " 22  LAM                       16122 non-null  object \n",
      " 23  CAM                       16122 non-null  object \n",
      " 24  RAM                       16122 non-null  object \n",
      " 25  LM                        16122 non-null  object \n",
      " 26  LCM                       16122 non-null  object \n",
      " 27  CM                        16122 non-null  object \n",
      " 28  RCM                       16122 non-null  object \n",
      " 29  RM                        16122 non-null  object \n",
      " 30  LWB                       16122 non-null  object \n",
      " 31  LDM                       16122 non-null  object \n",
      " 32  CDM                       16122 non-null  object \n",
      " 33  RDM                       16122 non-null  object \n",
      " 34  RWB                       16122 non-null  object \n",
      " 35  LB                        16122 non-null  object \n",
      " 36  LCB                       16122 non-null  object \n",
      " 37  CB                        16122 non-null  object \n",
      " 38  RCB                       16122 non-null  object \n",
      " 39  RB                        16122 non-null  object \n",
      " 40  Crossing                  18159 non-null  float64\n",
      " 41  Finishing                 18159 non-null  float64\n",
      " 42  HeadingAccuracy           18159 non-null  float64\n",
      " 43  ShortPassing              18159 non-null  float64\n",
      " 44  Volleys                   18159 non-null  float64\n",
      " 45  Dribbling                 18159 non-null  float64\n",
      " 46  Curve                     18159 non-null  float64\n",
      " 47  FKAccuracy                18159 non-null  float64\n",
      " 48  LongPassing               18159 non-null  float64\n",
      " 49  BallControl               18159 non-null  float64\n",
      " 50  Acceleration              18159 non-null  float64\n",
      " 51  SprintSpeed               18159 non-null  float64\n",
      " 52  Agility                   18159 non-null  float64\n",
      " 53  Reactions                 18159 non-null  float64\n",
      " 54  Balance                   18159 non-null  float64\n",
      " 55  ShotPower                 18159 non-null  float64\n",
      " 56  Jumping                   18159 non-null  float64\n",
      " 57  Stamina                   18159 non-null  float64\n",
      " 58  Strength                  18159 non-null  float64\n",
      " 59  LongShots                 18159 non-null  float64\n",
      " 60  Aggression                18159 non-null  float64\n",
      " 61  Interceptions             18159 non-null  float64\n",
      " 62  Positioning               18159 non-null  float64\n",
      " 63  Vision                    18159 non-null  float64\n",
      " 64  Penalties                 18159 non-null  float64\n",
      " 65  Composure                 18159 non-null  float64\n",
      " 66  Marking                   18159 non-null  float64\n",
      " 67  StandingTackle            18159 non-null  float64\n",
      " 68  SlidingTackle             18159 non-null  float64\n",
      " 69  GKDiving                  18159 non-null  float64\n",
      " 70  GKHandling                18159 non-null  float64\n",
      " 71  GKKicking                 18159 non-null  float64\n",
      " 72  GKPositioning             18159 non-null  float64\n",
      " 73  GKReflexes                18159 non-null  float64\n",
      "dtypes: float64(37), int64(4), object(33)\n",
      "memory usage: 11.0+ MB\n"
     ]
    }
   ],
   "source": [
    "data.info()"
   ]
  },
  {
   "cell_type": "markdown",
   "metadata": {},
   "source": [
    "Признаки ['Value','Wage'] это стоимость футболистов/их контрактов в формате €226.5M, обработаем эти столбцы и превратим в реальную стоимость,те  €226.5M=226 500 000 \n"
   ]
  },
  {
   "cell_type": "code",
   "execution_count": 10,
   "metadata": {},
   "outputs": [
    {
     "data": {
      "text/plain": [
       "Name\n",
       "L. Messi              €565K\n",
       "Cristiano Ronaldo     €405K\n",
       "Neymar Jr             €290K\n",
       "De Gea                €260K\n",
       "K. De Bruyne          €355K\n",
       "                      ...  \n",
       "J. Lundstram            €1K\n",
       "N. Christoffersson      €1K\n",
       "B. Worman               €1K\n",
       "D. Walker-Rice          €1K\n",
       "G. Nugent               €1K\n",
       "Name: Wage, Length: 18207, dtype: object"
      ]
     },
     "execution_count": 10,
     "metadata": {},
     "output_type": "execute_result"
    }
   ],
   "source": [
    "data['Wage']"
   ]
  },
  {
   "cell_type": "code",
   "execution_count": 11,
   "metadata": {},
   "outputs": [],
   "source": [
    "try:\n",
    "    if 'K' in data['Wage'][0]:\n",
    "        l=tuple(i[1:-1] for i in data['Wage'])\n",
    "        l1=tuple(0 if i=='' else i for i in l)\n",
    "        data['Wage'] = np.where(True, l1,l1)\n",
    "        data = data.astype({'Wage': np.float})\n",
    "except:\n",
    "    pass\n",
    "#data['Wage']"
   ]
  },
  {
   "cell_type": "code",
   "execution_count": 12,
   "metadata": {},
   "outputs": [],
   "source": [
    "try:\n",
    "    if '€' in data['Value'][0]:\n",
    "        l=tuple(float(i[1:-1].replace('.',\"\")) if 'K' in i else float(i[1:-1].replace('.',\"\")+'000') for i in data['Value'])\n",
    "        l1=tuple(0 if i=='nan' else i for i in l)\n",
    "        data['Value'] = np.where(True, l1,l1)\n",
    "except:\n",
    "    pass\n",
    "#data['Value']"
   ]
  },
  {
   "cell_type": "code",
   "execution_count": 13,
   "metadata": {},
   "outputs": [],
   "source": [
    "d={\n",
    "\"5'0\" :152.4,\n",
    "\"5'1\" :154.9,\n",
    "\"5'2\" :157.5,\n",
    "\"5'3\" :160,\n",
    "\"5'4\" :162.6,\n",
    "\"5'5\" :165.1,\n",
    "\"5'6\" :167.6,\n",
    "\"5'7\" :170.2,\n",
    "\"5'8\" :172.7,\n",
    "\"5'9\" :175.8,\n",
    "\"5'10\" :177.8,\n",
    "\"5'11\" :180.3,\n",
    "\"6'0\" :182.9,\n",
    "\"6'1\" :185.4,\n",
    "\"6'2\" :188,\n",
    "\"6'3\" :190.5,\n",
    "\"6'4\" :193,\n",
    "\"6'5\" :195.6,\n",
    "\"6'6\" :198.1,\n",
    "\"6'7\" :200.7,\n",
    "\"6'8\" :203.2,\n",
    "\"6'9\" :205.7,\n",
    "\"6'10\" :208.3,\n",
    "\"6'11\" :210.8,\n",
    "\"7'0\" :213.4,\n",
    "\"nan\":0\n",
    "}"
   ]
  },
  {
   "cell_type": "code",
   "execution_count": 14,
   "metadata": {},
   "outputs": [],
   "source": [
    "try:\n",
    "    if \"'\" in data['Height'][0]:\n",
    "        l=tuple(d[str(i)] for i in data['Height'])\n",
    "        data['Height'] = np.where(True, l,l)\n",
    "except:\n",
    "    pass\n",
    "#data['Height'].head(10)"
   ]
  },
  {
   "cell_type": "code",
   "execution_count": 15,
   "metadata": {},
   "outputs": [],
   "source": [
    "try:\n",
    "    if \"lbs\" in data['Weight'][0]:\n",
    "        l=tuple(0 if str(i)=='nan' else int(str(i).replace('lbs',''))*0.45  for i in data['Weight'])\n",
    "        data['Weight'] = np.where(True, l,l)\n",
    "except:\n",
    "    pass\n",
    "#data['Weight'].head(10)"
   ]
  },
  {
   "cell_type": "code",
   "execution_count": 16,
   "metadata": {},
   "outputs": [
    {
     "name": "stdout",
     "output_type": "stream",
     "text": [
      "<class 'pandas.core.frame.DataFrame'>\n",
      "Index: 18207 entries, L. Messi to G. Nugent\n",
      "Data columns (total 74 columns):\n",
      " #   Column                    Non-Null Count  Dtype  \n",
      "---  ------                    --------------  -----  \n",
      " 0   Age                       18207 non-null  int64  \n",
      " 1   Nationality               18207 non-null  object \n",
      " 2   Overall                   18207 non-null  int64  \n",
      " 3   Potential                 18207 non-null  int64  \n",
      " 4   Value                     18207 non-null  float64\n",
      " 5   Wage                      18207 non-null  float64\n",
      " 6   Special                   18207 non-null  int64  \n",
      " 7   Preferred Foot            18159 non-null  object \n",
      " 8   International Reputation  18159 non-null  float64\n",
      " 9   Weak Foot                 18159 non-null  float64\n",
      " 10  Skill Moves               18159 non-null  float64\n",
      " 11  Position                  18147 non-null  object \n",
      " 12  Height                    18207 non-null  float64\n",
      " 13  Weight                    18207 non-null  float64\n",
      " 14  LS                        16122 non-null  object \n",
      " 15  ST                        16122 non-null  object \n",
      " 16  RS                        16122 non-null  object \n",
      " 17  LW                        16122 non-null  object \n",
      " 18  LF                        16122 non-null  object \n",
      " 19  CF                        16122 non-null  object \n",
      " 20  RF                        16122 non-null  object \n",
      " 21  RW                        16122 non-null  object \n",
      " 22  LAM                       16122 non-null  object \n",
      " 23  CAM                       16122 non-null  object \n",
      " 24  RAM                       16122 non-null  object \n",
      " 25  LM                        16122 non-null  object \n",
      " 26  LCM                       16122 non-null  object \n",
      " 27  CM                        16122 non-null  object \n",
      " 28  RCM                       16122 non-null  object \n",
      " 29  RM                        16122 non-null  object \n",
      " 30  LWB                       16122 non-null  object \n",
      " 31  LDM                       16122 non-null  object \n",
      " 32  CDM                       16122 non-null  object \n",
      " 33  RDM                       16122 non-null  object \n",
      " 34  RWB                       16122 non-null  object \n",
      " 35  LB                        16122 non-null  object \n",
      " 36  LCB                       16122 non-null  object \n",
      " 37  CB                        16122 non-null  object \n",
      " 38  RCB                       16122 non-null  object \n",
      " 39  RB                        16122 non-null  object \n",
      " 40  Crossing                  18159 non-null  float64\n",
      " 41  Finishing                 18159 non-null  float64\n",
      " 42  HeadingAccuracy           18159 non-null  float64\n",
      " 43  ShortPassing              18159 non-null  float64\n",
      " 44  Volleys                   18159 non-null  float64\n",
      " 45  Dribbling                 18159 non-null  float64\n",
      " 46  Curve                     18159 non-null  float64\n",
      " 47  FKAccuracy                18159 non-null  float64\n",
      " 48  LongPassing               18159 non-null  float64\n",
      " 49  BallControl               18159 non-null  float64\n",
      " 50  Acceleration              18159 non-null  float64\n",
      " 51  SprintSpeed               18159 non-null  float64\n",
      " 52  Agility                   18159 non-null  float64\n",
      " 53  Reactions                 18159 non-null  float64\n",
      " 54  Balance                   18159 non-null  float64\n",
      " 55  ShotPower                 18159 non-null  float64\n",
      " 56  Jumping                   18159 non-null  float64\n",
      " 57  Stamina                   18159 non-null  float64\n",
      " 58  Strength                  18159 non-null  float64\n",
      " 59  LongShots                 18159 non-null  float64\n",
      " 60  Aggression                18159 non-null  float64\n",
      " 61  Interceptions             18159 non-null  float64\n",
      " 62  Positioning               18159 non-null  float64\n",
      " 63  Vision                    18159 non-null  float64\n",
      " 64  Penalties                 18159 non-null  float64\n",
      " 65  Composure                 18159 non-null  float64\n",
      " 66  Marking                   18159 non-null  float64\n",
      " 67  StandingTackle            18159 non-null  float64\n",
      " 68  SlidingTackle             18159 non-null  float64\n",
      " 69  GKDiving                  18159 non-null  float64\n",
      " 70  GKHandling                18159 non-null  float64\n",
      " 71  GKKicking                 18159 non-null  float64\n",
      " 72  GKPositioning             18159 non-null  float64\n",
      " 73  GKReflexes                18159 non-null  float64\n",
      "dtypes: float64(41), int64(4), object(29)\n",
      "memory usage: 11.0+ MB\n"
     ]
    }
   ],
   "source": [
    "data.info()"
   ]
  },
  {
   "cell_type": "code",
   "execution_count": 17,
   "metadata": {},
   "outputs": [],
   "source": [
    "def apply_change(our_data):\n",
    "    try:\n",
    "        if \"+\" in our_data[0]:\n",
    "            l=list(2 if i=='NaN' else str(i)[:-2] for i in our_data)\n",
    "            l1=list(i if i !='n' else 0 for i in l)\n",
    "            our_data = np.where(True, l1,l1)\n",
    "            our_data=our_data.apply(int)\n",
    "    except:\n",
    "        pass\n",
    "    return our_data"
   ]
  },
  {
   "cell_type": "code",
   "execution_count": 18,
   "metadata": {},
   "outputs": [],
   "source": [
    "data['LS']=apply_change(data['LS'])\n",
    "data['LS']=data['LS'].apply(float)\n",
    "data['ST']=apply_change(data['ST'])\n",
    "data['ST']=data['ST'].apply(float)\n",
    "data['RS']=apply_change(data['RS'])\n",
    "data['RS']=data['RS'].apply(float)\n",
    "data['LW']=apply_change(data['LW'])\n",
    "data['LW']=data['LW'].apply(float)\n",
    "data['LF']=apply_change(data['LF'])\n",
    "data['LF']=data['LF'].apply(float)\n",
    "data['CF']=apply_change(data['CF'])\n",
    "data['CF']=data['CF'].apply(float)\n",
    "data['RF']=apply_change(data['RF'])\n",
    "data['RF']=data['RF'].apply(float)\n",
    "data['RW']=apply_change(data['RW'])\n",
    "data['RW']=data['RW'].apply(float)\n",
    "data['LAM']=apply_change(data['LAM'])\n",
    "data['LAM']=data['LAM'].apply(float)\n",
    "data['CAM']=apply_change(data['CAM'])\n",
    "data['CAM']=data['CAM'].apply(float)\n",
    "data['RAM']=apply_change(data['RAM'])\n",
    "data['RAM']=data['RAM'].apply(float)\n",
    "data['LM']=apply_change(data['LM'])\n",
    "data['LM']=data['LM'].apply(float)\n",
    "data['LCM']=apply_change(data['LCM'])\n",
    "data['LCM']=data['LCM'].apply(float)\n",
    "data['CM']=apply_change(data['CM'])\n",
    "data['CM']=data['CM'].apply(float)\n",
    "data['RCM']=apply_change(data['RCM'])\n",
    "data['RCM']=data['RCM'].apply(float)\n",
    "data['RM']=apply_change(data['RM'])\n",
    "data['RM']=data['RM'].apply(float)\n",
    "data['LWB']=apply_change(data['LWB'])\n",
    "data['LWB']=data['LWB'].apply(float)\n",
    "data['LDM']=apply_change(data['LDM'])\n",
    "data['LDM']=data['LDM'].apply(float)\n",
    "data['CDM']=apply_change(data['CDM'])\n",
    "data['CDM']=data['CDM'].apply(float)\n",
    "data['RDM']=apply_change(data['RDM'])\n",
    "data['RDM']=data['RDM'].apply(float)\n",
    "data['RWB']=apply_change(data['RWB'])\n",
    "data['RWB']=data['RWB'].apply(float)\n",
    "data['LB']=apply_change(data['LB'])\n",
    "data['LB']=data['LB'].apply(float)\n",
    "data['LCB']=apply_change(data['LCB'])\n",
    "data['LCB']=data['LCB'].apply(float)\n",
    "data['CB']=apply_change(data['CB'])\n",
    "data['CB']=data['CB'].apply(float)\n",
    "data['RCB']=apply_change(data['RCB'])\n",
    "data['RCB']=data['RCB'].apply(float)\n",
    "data['RB']=apply_change(data['RB'])\n",
    "data['RB']=data['RB'].apply(float)"
   ]
  },
  {
   "cell_type": "code",
   "execution_count": 19,
   "metadata": {},
   "outputs": [
    {
     "name": "stdout",
     "output_type": "stream",
     "text": [
      "<class 'pandas.core.frame.DataFrame'>\n",
      "Index: 18207 entries, L. Messi to G. Nugent\n",
      "Data columns (total 74 columns):\n",
      " #   Column                    Non-Null Count  Dtype  \n",
      "---  ------                    --------------  -----  \n",
      " 0   Age                       18207 non-null  int64  \n",
      " 1   Nationality               18207 non-null  object \n",
      " 2   Overall                   18207 non-null  int64  \n",
      " 3   Potential                 18207 non-null  int64  \n",
      " 4   Value                     18207 non-null  float64\n",
      " 5   Wage                      18207 non-null  float64\n",
      " 6   Special                   18207 non-null  int64  \n",
      " 7   Preferred Foot            18159 non-null  object \n",
      " 8   International Reputation  18159 non-null  float64\n",
      " 9   Weak Foot                 18159 non-null  float64\n",
      " 10  Skill Moves               18159 non-null  float64\n",
      " 11  Position                  18147 non-null  object \n",
      " 12  Height                    18207 non-null  float64\n",
      " 13  Weight                    18207 non-null  float64\n",
      " 14  LS                        18207 non-null  float64\n",
      " 15  ST                        18207 non-null  float64\n",
      " 16  RS                        18207 non-null  float64\n",
      " 17  LW                        18207 non-null  float64\n",
      " 18  LF                        18207 non-null  float64\n",
      " 19  CF                        18207 non-null  float64\n",
      " 20  RF                        18207 non-null  float64\n",
      " 21  RW                        18207 non-null  float64\n",
      " 22  LAM                       18207 non-null  float64\n",
      " 23  CAM                       18207 non-null  float64\n",
      " 24  RAM                       18207 non-null  float64\n",
      " 25  LM                        18207 non-null  float64\n",
      " 26  LCM                       18207 non-null  float64\n",
      " 27  CM                        18207 non-null  float64\n",
      " 28  RCM                       18207 non-null  float64\n",
      " 29  RM                        18207 non-null  float64\n",
      " 30  LWB                       18207 non-null  float64\n",
      " 31  LDM                       18207 non-null  float64\n",
      " 32  CDM                       18207 non-null  float64\n",
      " 33  RDM                       18207 non-null  float64\n",
      " 34  RWB                       18207 non-null  float64\n",
      " 35  LB                        18207 non-null  float64\n",
      " 36  LCB                       18207 non-null  float64\n",
      " 37  CB                        18207 non-null  float64\n",
      " 38  RCB                       18207 non-null  float64\n",
      " 39  RB                        18207 non-null  float64\n",
      " 40  Crossing                  18159 non-null  float64\n",
      " 41  Finishing                 18159 non-null  float64\n",
      " 42  HeadingAccuracy           18159 non-null  float64\n",
      " 43  ShortPassing              18159 non-null  float64\n",
      " 44  Volleys                   18159 non-null  float64\n",
      " 45  Dribbling                 18159 non-null  float64\n",
      " 46  Curve                     18159 non-null  float64\n",
      " 47  FKAccuracy                18159 non-null  float64\n",
      " 48  LongPassing               18159 non-null  float64\n",
      " 49  BallControl               18159 non-null  float64\n",
      " 50  Acceleration              18159 non-null  float64\n",
      " 51  SprintSpeed               18159 non-null  float64\n",
      " 52  Agility                   18159 non-null  float64\n",
      " 53  Reactions                 18159 non-null  float64\n",
      " 54  Balance                   18159 non-null  float64\n",
      " 55  ShotPower                 18159 non-null  float64\n",
      " 56  Jumping                   18159 non-null  float64\n",
      " 57  Stamina                   18159 non-null  float64\n",
      " 58  Strength                  18159 non-null  float64\n",
      " 59  LongShots                 18159 non-null  float64\n",
      " 60  Aggression                18159 non-null  float64\n",
      " 61  Interceptions             18159 non-null  float64\n",
      " 62  Positioning               18159 non-null  float64\n",
      " 63  Vision                    18159 non-null  float64\n",
      " 64  Penalties                 18159 non-null  float64\n",
      " 65  Composure                 18159 non-null  float64\n",
      " 66  Marking                   18159 non-null  float64\n",
      " 67  StandingTackle            18159 non-null  float64\n",
      " 68  SlidingTackle             18159 non-null  float64\n",
      " 69  GKDiving                  18159 non-null  float64\n",
      " 70  GKHandling                18159 non-null  float64\n",
      " 71  GKKicking                 18159 non-null  float64\n",
      " 72  GKPositioning             18159 non-null  float64\n",
      " 73  GKReflexes                18159 non-null  float64\n",
      "dtypes: float64(67), int64(4), object(3)\n",
      "memory usage: 11.0+ MB\n"
     ]
    }
   ],
   "source": [
    "data.info()"
   ]
  },
  {
   "cell_type": "code",
   "execution_count": 20,
   "metadata": {},
   "outputs": [],
   "source": [
    "try:\n",
    "    data=data.drop(['Nationality','Preferred Foot'],axis=1)\n",
    "except:\n",
    "    pass"
   ]
  },
  {
   "cell_type": "markdown",
   "metadata": {},
   "source": [
    "# Fighting outliers"
   ]
  },
  {
   "cell_type": "code",
   "execution_count": 21,
   "metadata": {},
   "outputs": [],
   "source": [
    "from sklearn import preprocessing\n",
    "le = preprocessing.LabelEncoder()\n",
    "le.fit(data['Position'])\n",
    "data['Position']=le.transform(data['Position'])"
   ]
  },
  {
   "cell_type": "code",
   "execution_count": 22,
   "metadata": {},
   "outputs": [
    {
     "data": {
      "text/plain": [
       "<matplotlib.collections.PathCollection at 0x22fa38a9880>"
      ]
     },
     "execution_count": 22,
     "metadata": {},
     "output_type": "execute_result"
    },
    {
     "data": {
      "image/png": "[encoded data removed]",
      "text/plain": [
       "<Figure size 432x288 with 1 Axes>"
      ]
     },
     "metadata": {
      "needs_background": "light"
     },
     "output_type": "display_data"
    }
   ],
   "source": [
    "plt.scatter(data['Position'],data['Height'])"
   ]
  },
  {
   "cell_type": "code",
   "execution_count": 23,
   "metadata": {},
   "outputs": [
    {
     "data": {
      "text/plain": [
       "0.005    162.6\n",
       "0.010    165.1\n",
       "0.050    170.2\n",
       "0.100    172.7\n",
       "0.500    180.3\n",
       "0.900    190.5\n",
       "0.950    193.0\n",
       "0.990    195.6\n",
       "0.995    198.1\n",
       "Name: Height, dtype: float64"
      ]
     },
     "execution_count": 23,
     "metadata": {},
     "output_type": "execute_result"
    }
   ],
   "source": [
    "data['Height'].quantile([0.005,.01,.05,.1,.5,.9,.95,.99,.995])"
   ]
  },
  {
   "cell_type": "markdown",
   "metadata": {},
   "source": [
    "$99.9\\%$ всех значений 'Height' находится в диапазоне от $162.5$ до $198.1$ cm"
   ]
  },
  {
   "cell_type": "markdown",
   "metadata": {},
   "source": [
    "Удалим все строки таблицы, в которых 'Height' выходит за пределы квантилей $0.005$, $0.995$."
   ]
  },
  {
   "cell_type": "code",
   "execution_count": 24,
   "metadata": {},
   "outputs": [
    {
     "data": {
      "text/plain": [
       "(18085, 72)"
      ]
     },
     "execution_count": 24,
     "metadata": {},
     "output_type": "execute_result"
    }
   ],
   "source": [
    "rows_to_drop = data[(data['Height'] < data['Height'].quantile(0.005)) |\n",
    "                    (data['Height'] > data['Height'].quantile(0.995))].index\n",
    "data = data.drop(rows_to_drop)\n",
    "data.shape "
   ]
  },
  {
   "cell_type": "code",
   "execution_count": 25,
   "metadata": {},
   "outputs": [
    {
     "data": {
      "text/plain": [
       "<matplotlib.collections.PathCollection at 0x22fa50a8a00>"
      ]
     },
     "execution_count": 25,
     "metadata": {},
     "output_type": "execute_result"
    },
    {
     "data": {
      "image/png": "[encoded data removed]",
      "text/plain": [
       "<Figure size 432x288 with 1 Axes>"
      ]
     },
     "metadata": {
      "needs_background": "light"
     },
     "output_type": "display_data"
    }
   ],
   "source": [
    "plt.scatter(data['Position'],data['Height'])"
   ]
  },
  {
   "cell_type": "code",
   "execution_count": 26,
   "metadata": {},
   "outputs": [
    {
     "data": {
      "text/plain": [
       "<matplotlib.collections.PathCollection at 0x22fa46f7eb0>"
      ]
     },
     "execution_count": 26,
     "metadata": {},
     "output_type": "execute_result"
    },
    {
     "data": {
      "image/png": "[encoded data removed]",
      "text/plain": [
       "<Figure size 432x288 with 1 Axes>"
      ]
     },
     "metadata": {
      "needs_background": "light"
     },
     "output_type": "display_data"
    }
   ],
   "source": [
    "plt.scatter(data['Position'],data['Value'])"
   ]
  },
  {
   "cell_type": "code",
   "execution_count": 27,
   "metadata": {},
   "outputs": [
    {
     "data": {
      "text/plain": [
       "0.005         0.0\n",
       "0.010         0.0\n",
       "0.050        90.0\n",
       "0.100       140.0\n",
       "0.500       675.0\n",
       "0.900     36000.0\n",
       "0.950     65000.0\n",
       "0.990    166600.0\n",
       "0.995    255000.0\n",
       "Name: Value, dtype: float64"
      ]
     },
     "execution_count": 27,
     "metadata": {},
     "output_type": "execute_result"
    }
   ],
   "source": [
    "data['Value'].quantile([0.005,.01,.05,.1,.5,.9,.95,.99,.995])"
   ]
  },
  {
   "cell_type": "code",
   "execution_count": 28,
   "metadata": {},
   "outputs": [
    {
     "data": {
      "text/plain": [
       "<matplotlib.collections.PathCollection at 0x22fa4785670>"
      ]
     },
     "execution_count": 28,
     "metadata": {},
     "output_type": "execute_result"
    },
    {
     "data": {
      "image/png": "[encoded data removed]",
      "text/plain": [
       "<Figure size 432x288 with 1 Axes>"
      ]
     },
     "metadata": {
      "needs_background": "light"
     },
     "output_type": "display_data"
    }
   ],
   "source": [
    "rows_to_drop = data[(data['Value'] < data['Value'].quantile(0.005)) |\n",
    "                    (data['Value'] > data['Value'].quantile(0.995))].index\n",
    "data = data.drop(rows_to_drop)\n",
    "plt.scatter(data['Position'],data['Value'])"
   ]
  },
  {
   "cell_type": "markdown",
   "metadata": {},
   "source": [
    "#  Visualization and descriptive statistics"
   ]
  },
  {
   "cell_type": "code",
   "execution_count": 29,
   "metadata": {},
   "outputs": [
    {
     "data": {
      "text/html": [
       "<div>\n",
       "<style scoped>\n",
       "    .dataframe tbody tr th:only-of-type {\n",
       "        vertical-align: middle;\n",
       "    }\n",
       "\n",
       "    .dataframe tbody tr th {\n",
       "        vertical-align: top;\n",
       "    }\n",
       "\n",
       "    .dataframe thead th {\n",
       "        text-align: right;\n",
       "    }\n",
       "</style>\n",
       "<table border=\"1\" class=\"dataframe\">\n",
       "  <thead>\n",
       "    <tr style=\"text-align: right;\">\n",
       "      <th></th>\n",
       "      <th>Age</th>\n",
       "      <th>Overall</th>\n",
       "      <th>Potential</th>\n",
       "      <th>Value</th>\n",
       "      <th>Wage</th>\n",
       "      <th>Special</th>\n",
       "      <th>International Reputation</th>\n",
       "      <th>Weak Foot</th>\n",
       "      <th>Skill Moves</th>\n",
       "      <th>Position</th>\n",
       "      <th>...</th>\n",
       "      <th>Penalties</th>\n",
       "      <th>Composure</th>\n",
       "      <th>Marking</th>\n",
       "      <th>StandingTackle</th>\n",
       "      <th>SlidingTackle</th>\n",
       "      <th>GKDiving</th>\n",
       "      <th>GKHandling</th>\n",
       "      <th>GKKicking</th>\n",
       "      <th>GKPositioning</th>\n",
       "      <th>GKReflexes</th>\n",
       "    </tr>\n",
       "  </thead>\n",
       "  <tbody>\n",
       "    <tr>\n",
       "      <th>count</th>\n",
       "      <td>17977.000000</td>\n",
       "      <td>17977.000000</td>\n",
       "      <td>17977.000000</td>\n",
       "      <td>17977.000000</td>\n",
       "      <td>17977.000000</td>\n",
       "      <td>17977.000000</td>\n",
       "      <td>17977.000000</td>\n",
       "      <td>17977.000000</td>\n",
       "      <td>17977.000000</td>\n",
       "      <td>17977.000000</td>\n",
       "      <td>...</td>\n",
       "      <td>17977.000000</td>\n",
       "      <td>17977.000000</td>\n",
       "      <td>17977.000000</td>\n",
       "      <td>17977.000000</td>\n",
       "      <td>17977.000000</td>\n",
       "      <td>17977.000000</td>\n",
       "      <td>17977.000000</td>\n",
       "      <td>17977.000000</td>\n",
       "      <td>17977.000000</td>\n",
       "      <td>17977.000000</td>\n",
       "    </tr>\n",
       "    <tr>\n",
       "      <th>mean</th>\n",
       "      <td>25.122545</td>\n",
       "      <td>66.161484</td>\n",
       "      <td>71.238471</td>\n",
       "      <td>11720.315681</td>\n",
       "      <td>9.133115</td>\n",
       "      <td>1596.562997</td>\n",
       "      <td>1.105412</td>\n",
       "      <td>2.945097</td>\n",
       "      <td>2.356678</td>\n",
       "      <td>1.269122</td>\n",
       "      <td>...</td>\n",
       "      <td>48.489959</td>\n",
       "      <td>58.552706</td>\n",
       "      <td>47.294877</td>\n",
       "      <td>47.728598</td>\n",
       "      <td>45.700506</td>\n",
       "      <td>16.579463</td>\n",
       "      <td>16.353841</td>\n",
       "      <td>16.197085</td>\n",
       "      <td>16.349168</td>\n",
       "      <td>16.669800</td>\n",
       "    </tr>\n",
       "    <tr>\n",
       "      <th>std</th>\n",
       "      <td>4.677072</td>\n",
       "      <td>6.807514</td>\n",
       "      <td>6.042677</td>\n",
       "      <td>25906.801461</td>\n",
       "      <td>19.133639</td>\n",
       "      <td>271.252120</td>\n",
       "      <td>0.373615</td>\n",
       "      <td>0.658163</td>\n",
       "      <td>0.749016</td>\n",
       "      <td>1.176464</td>\n",
       "      <td>...</td>\n",
       "      <td>15.649253</td>\n",
       "      <td>11.342025</td>\n",
       "      <td>19.877526</td>\n",
       "      <td>21.631100</td>\n",
       "      <td>21.257831</td>\n",
       "      <td>17.633887</td>\n",
       "      <td>16.848619</td>\n",
       "      <td>16.451356</td>\n",
       "      <td>16.972925</td>\n",
       "      <td>17.891613</td>\n",
       "    </tr>\n",
       "    <tr>\n",
       "      <th>min</th>\n",
       "      <td>16.000000</td>\n",
       "      <td>46.000000</td>\n",
       "      <td>48.000000</td>\n",
       "      <td>0.000000</td>\n",
       "      <td>0.000000</td>\n",
       "      <td>731.000000</td>\n",
       "      <td>1.000000</td>\n",
       "      <td>1.000000</td>\n",
       "      <td>1.000000</td>\n",
       "      <td>0.000000</td>\n",
       "      <td>...</td>\n",
       "      <td>5.000000</td>\n",
       "      <td>12.000000</td>\n",
       "      <td>3.000000</td>\n",
       "      <td>2.000000</td>\n",
       "      <td>3.000000</td>\n",
       "      <td>1.000000</td>\n",
       "      <td>1.000000</td>\n",
       "      <td>1.000000</td>\n",
       "      <td>1.000000</td>\n",
       "      <td>1.000000</td>\n",
       "    </tr>\n",
       "    <tr>\n",
       "      <th>25%</th>\n",
       "      <td>21.000000</td>\n",
       "      <td>62.000000</td>\n",
       "      <td>67.000000</td>\n",
       "      <td>300.000000</td>\n",
       "      <td>1.000000</td>\n",
       "      <td>1457.000000</td>\n",
       "      <td>1.000000</td>\n",
       "      <td>3.000000</td>\n",
       "      <td>2.000000</td>\n",
       "      <td>0.000000</td>\n",
       "      <td>...</td>\n",
       "      <td>39.000000</td>\n",
       "      <td>51.000000</td>\n",
       "      <td>30.000000</td>\n",
       "      <td>27.000000</td>\n",
       "      <td>24.000000</td>\n",
       "      <td>8.000000</td>\n",
       "      <td>8.000000</td>\n",
       "      <td>8.000000</td>\n",
       "      <td>8.000000</td>\n",
       "      <td>8.000000</td>\n",
       "    </tr>\n",
       "    <tr>\n",
       "      <th>50%</th>\n",
       "      <td>25.000000</td>\n",
       "      <td>66.000000</td>\n",
       "      <td>71.000000</td>\n",
       "      <td>675.000000</td>\n",
       "      <td>3.000000</td>\n",
       "      <td>1634.000000</td>\n",
       "      <td>1.000000</td>\n",
       "      <td>3.000000</td>\n",
       "      <td>2.000000</td>\n",
       "      <td>1.000000</td>\n",
       "      <td>...</td>\n",
       "      <td>49.000000</td>\n",
       "      <td>59.000000</td>\n",
       "      <td>53.000000</td>\n",
       "      <td>55.000000</td>\n",
       "      <td>52.000000</td>\n",
       "      <td>11.000000</td>\n",
       "      <td>11.000000</td>\n",
       "      <td>11.000000</td>\n",
       "      <td>11.000000</td>\n",
       "      <td>11.000000</td>\n",
       "    </tr>\n",
       "    <tr>\n",
       "      <th>75%</th>\n",
       "      <td>28.000000</td>\n",
       "      <td>71.000000</td>\n",
       "      <td>75.000000</td>\n",
       "      <td>13000.000000</td>\n",
       "      <td>9.000000</td>\n",
       "      <td>1785.000000</td>\n",
       "      <td>1.000000</td>\n",
       "      <td>3.000000</td>\n",
       "      <td>3.000000</td>\n",
       "      <td>2.000000</td>\n",
       "      <td>...</td>\n",
       "      <td>60.000000</td>\n",
       "      <td>67.000000</td>\n",
       "      <td>64.000000</td>\n",
       "      <td>66.000000</td>\n",
       "      <td>64.000000</td>\n",
       "      <td>14.000000</td>\n",
       "      <td>14.000000</td>\n",
       "      <td>14.000000</td>\n",
       "      <td>14.000000</td>\n",
       "      <td>14.000000</td>\n",
       "    </tr>\n",
       "    <tr>\n",
       "      <th>max</th>\n",
       "      <td>45.000000</td>\n",
       "      <td>94.000000</td>\n",
       "      <td>95.000000</td>\n",
       "      <td>255000.000000</td>\n",
       "      <td>455.000000</td>\n",
       "      <td>2346.000000</td>\n",
       "      <td>5.000000</td>\n",
       "      <td>5.000000</td>\n",
       "      <td>5.000000</td>\n",
       "      <td>4.000000</td>\n",
       "      <td>...</td>\n",
       "      <td>91.000000</td>\n",
       "      <td>95.000000</td>\n",
       "      <td>94.000000</td>\n",
       "      <td>93.000000</td>\n",
       "      <td>91.000000</td>\n",
       "      <td>90.000000</td>\n",
       "      <td>92.000000</td>\n",
       "      <td>91.000000</td>\n",
       "      <td>90.000000</td>\n",
       "      <td>94.000000</td>\n",
       "    </tr>\n",
       "  </tbody>\n",
       "</table>\n",
       "<p>8 rows × 72 columns</p>\n",
       "</div>"
      ],
      "text/plain": [
       "                Age       Overall     Potential          Value          Wage  \\\n",
       "count  17977.000000  17977.000000  17977.000000   17977.000000  17977.000000   \n",
       "mean      25.122545     66.161484     71.238471   11720.315681      9.133115   \n",
       "std        4.677072      6.807514      6.042677   25906.801461     19.133639   \n",
       "min       16.000000     46.000000     48.000000       0.000000      0.000000   \n",
       "25%       21.000000     62.000000     67.000000     300.000000      1.000000   \n",
       "50%       25.000000     66.000000     71.000000     675.000000      3.000000   \n",
       "75%       28.000000     71.000000     75.000000   13000.000000      9.000000   \n",
       "max       45.000000     94.000000     95.000000  255000.000000    455.000000   \n",
       "\n",
       "            Special  International Reputation     Weak Foot   Skill Moves  \\\n",
       "count  17977.000000              17977.000000  17977.000000  17977.000000   \n",
       "mean    1596.562997                  1.105412      2.945097      2.356678   \n",
       "std      271.252120                  0.373615      0.658163      0.749016   \n",
       "min      731.000000                  1.000000      1.000000      1.000000   \n",
       "25%     1457.000000                  1.000000      3.000000      2.000000   \n",
       "50%     1634.000000                  1.000000      3.000000      2.000000   \n",
       "75%     1785.000000                  1.000000      3.000000      3.000000   \n",
       "max     2346.000000                  5.000000      5.000000      5.000000   \n",
       "\n",
       "           Position  ...     Penalties     Composure       Marking  \\\n",
       "count  17977.000000  ...  17977.000000  17977.000000  17977.000000   \n",
       "mean       1.269122  ...     48.489959     58.552706     47.294877   \n",
       "std        1.176464  ...     15.649253     11.342025     19.877526   \n",
       "min        0.000000  ...      5.000000     12.000000      3.000000   \n",
       "25%        0.000000  ...     39.000000     51.000000     30.000000   \n",
       "50%        1.000000  ...     49.000000     59.000000     53.000000   \n",
       "75%        2.000000  ...     60.000000     67.000000     64.000000   \n",
       "max        4.000000  ...     91.000000     95.000000     94.000000   \n",
       "\n",
       "       StandingTackle  SlidingTackle      GKDiving    GKHandling  \\\n",
       "count    17977.000000   17977.000000  17977.000000  17977.000000   \n",
       "mean        47.728598      45.700506     16.579463     16.353841   \n",
       "std         21.631100      21.257831     17.633887     16.848619   \n",
       "min          2.000000       3.000000      1.000000      1.000000   \n",
       "25%         27.000000      24.000000      8.000000      8.000000   \n",
       "50%         55.000000      52.000000     11.000000     11.000000   \n",
       "75%         66.000000      64.000000     14.000000     14.000000   \n",
       "max         93.000000      91.000000     90.000000     92.000000   \n",
       "\n",
       "          GKKicking  GKPositioning    GKReflexes  \n",
       "count  17977.000000   17977.000000  17977.000000  \n",
       "mean      16.197085      16.349168     16.669800  \n",
       "std       16.451356      16.972925     17.891613  \n",
       "min        1.000000       1.000000      1.000000  \n",
       "25%        8.000000       8.000000      8.000000  \n",
       "50%       11.000000      11.000000     11.000000  \n",
       "75%       14.000000      14.000000     14.000000  \n",
       "max       91.000000      90.000000     94.000000  \n",
       "\n",
       "[8 rows x 72 columns]"
      ]
     },
     "execution_count": 29,
     "metadata": {},
     "output_type": "execute_result"
    }
   ],
   "source": [
    "data.describe()"
   ]
  },
  {
   "cell_type": "markdown",
   "metadata": {},
   "source": [
    "Для каждого количественного признака приведены средние значения, стандартное отклонение, минимальное и макимальное значения, медиана и значения квартилей."
   ]
  },
  {
   "cell_type": "markdown",
   "metadata": {},
   "source": [
    "Можно вычислить матрицу корреляции для количественных признаков:"
   ]
  },
  {
   "cell_type": "code",
   "execution_count": 30,
   "metadata": {},
   "outputs": [
    {
     "data": {
      "text/html": [
       "<div>\n",
       "<style scoped>\n",
       "    .dataframe tbody tr th:only-of-type {\n",
       "        vertical-align: middle;\n",
       "    }\n",
       "\n",
       "    .dataframe tbody tr th {\n",
       "        vertical-align: top;\n",
       "    }\n",
       "\n",
       "    .dataframe thead th {\n",
       "        text-align: right;\n",
       "    }\n",
       "</style>\n",
       "<table border=\"1\" class=\"dataframe\">\n",
       "  <thead>\n",
       "    <tr style=\"text-align: right;\">\n",
       "      <th></th>\n",
       "      <th>Age</th>\n",
       "      <th>Overall</th>\n",
       "      <th>Potential</th>\n",
       "      <th>Value</th>\n",
       "      <th>Wage</th>\n",
       "      <th>Special</th>\n",
       "      <th>International Reputation</th>\n",
       "      <th>Weak Foot</th>\n",
       "      <th>Skill Moves</th>\n",
       "      <th>Position</th>\n",
       "      <th>...</th>\n",
       "      <th>Penalties</th>\n",
       "      <th>Composure</th>\n",
       "      <th>Marking</th>\n",
       "      <th>StandingTackle</th>\n",
       "      <th>SlidingTackle</th>\n",
       "      <th>GKDiving</th>\n",
       "      <th>GKHandling</th>\n",
       "      <th>GKKicking</th>\n",
       "      <th>GKPositioning</th>\n",
       "      <th>GKReflexes</th>\n",
       "    </tr>\n",
       "  </thead>\n",
       "  <tbody>\n",
       "    <tr>\n",
       "      <th>Age</th>\n",
       "      <td>1.000000</td>\n",
       "      <td>0.459628</td>\n",
       "      <td>-0.257816</td>\n",
       "      <td>0.078374</td>\n",
       "      <td>0.153749</td>\n",
       "      <td>0.237507</td>\n",
       "      <td>0.261838</td>\n",
       "      <td>0.060702</td>\n",
       "      <td>0.026364</td>\n",
       "      <td>-0.096419</td>\n",
       "      <td>...</td>\n",
       "      <td>0.139270</td>\n",
       "      <td>0.393419</td>\n",
       "      <td>0.143299</td>\n",
       "      <td>0.120461</td>\n",
       "      <td>0.103721</td>\n",
       "      <td>0.102551</td>\n",
       "      <td>0.107679</td>\n",
       "      <td>0.106146</td>\n",
       "      <td>0.117873</td>\n",
       "      <td>0.104337</td>\n",
       "    </tr>\n",
       "    <tr>\n",
       "      <th>Overall</th>\n",
       "      <td>0.459628</td>\n",
       "      <td>1.000000</td>\n",
       "      <td>0.649617</td>\n",
       "      <td>0.570839</td>\n",
       "      <td>0.576285</td>\n",
       "      <td>0.603826</td>\n",
       "      <td>0.477755</td>\n",
       "      <td>0.206348</td>\n",
       "      <td>0.407901</td>\n",
       "      <td>-0.015547</td>\n",
       "      <td>...</td>\n",
       "      <td>0.337679</td>\n",
       "      <td>0.723059</td>\n",
       "      <td>0.288116</td>\n",
       "      <td>0.255165</td>\n",
       "      <td>0.225908</td>\n",
       "      <td>-0.026269</td>\n",
       "      <td>-0.025808</td>\n",
       "      <td>-0.029866</td>\n",
       "      <td>-0.018112</td>\n",
       "      <td>-0.023936</td>\n",
       "    </tr>\n",
       "    <tr>\n",
       "      <th>Potential</th>\n",
       "      <td>-0.257816</td>\n",
       "      <td>0.649617</td>\n",
       "      <td>1.000000</td>\n",
       "      <td>0.511883</td>\n",
       "      <td>0.480792</td>\n",
       "      <td>0.376198</td>\n",
       "      <td>0.345268</td>\n",
       "      <td>0.154750</td>\n",
       "      <td>0.347318</td>\n",
       "      <td>0.047979</td>\n",
       "      <td>...</td>\n",
       "      <td>0.218829</td>\n",
       "      <td>0.428287</td>\n",
       "      <td>0.161299</td>\n",
       "      <td>0.143066</td>\n",
       "      <td>0.129435</td>\n",
       "      <td>-0.055199</td>\n",
       "      <td>-0.056923</td>\n",
       "      <td>-0.061068</td>\n",
       "      <td>-0.054667</td>\n",
       "      <td>-0.055364</td>\n",
       "    </tr>\n",
       "    <tr>\n",
       "      <th>Value</th>\n",
       "      <td>0.078374</td>\n",
       "      <td>0.570839</td>\n",
       "      <td>0.511883</td>\n",
       "      <td>1.000000</td>\n",
       "      <td>0.481467</td>\n",
       "      <td>0.364971</td>\n",
       "      <td>0.370901</td>\n",
       "      <td>0.142595</td>\n",
       "      <td>0.299787</td>\n",
       "      <td>0.049437</td>\n",
       "      <td>...</td>\n",
       "      <td>0.223764</td>\n",
       "      <td>0.417146</td>\n",
       "      <td>0.149227</td>\n",
       "      <td>0.131512</td>\n",
       "      <td>0.111802</td>\n",
       "      <td>-0.043305</td>\n",
       "      <td>-0.044086</td>\n",
       "      <td>-0.044510</td>\n",
       "      <td>-0.044347</td>\n",
       "      <td>-0.045755</td>\n",
       "    </tr>\n",
       "    <tr>\n",
       "      <th>Wage</th>\n",
       "      <td>0.153749</td>\n",
       "      <td>0.576285</td>\n",
       "      <td>0.480792</td>\n",
       "      <td>0.481467</td>\n",
       "      <td>1.000000</td>\n",
       "      <td>0.353151</td>\n",
       "      <td>0.641264</td>\n",
       "      <td>0.136714</td>\n",
       "      <td>0.259518</td>\n",
       "      <td>0.026493</td>\n",
       "      <td>...</td>\n",
       "      <td>0.224474</td>\n",
       "      <td>0.420766</td>\n",
       "      <td>0.157037</td>\n",
       "      <td>0.139313</td>\n",
       "      <td>0.124449</td>\n",
       "      <td>-0.027915</td>\n",
       "      <td>-0.028750</td>\n",
       "      <td>-0.032664</td>\n",
       "      <td>-0.028860</td>\n",
       "      <td>-0.028893</td>\n",
       "    </tr>\n",
       "    <tr>\n",
       "      <th>...</th>\n",
       "      <td>...</td>\n",
       "      <td>...</td>\n",
       "      <td>...</td>\n",
       "      <td>...</td>\n",
       "      <td>...</td>\n",
       "      <td>...</td>\n",
       "      <td>...</td>\n",
       "      <td>...</td>\n",
       "      <td>...</td>\n",
       "      <td>...</td>\n",
       "      <td>...</td>\n",
       "      <td>...</td>\n",
       "      <td>...</td>\n",
       "      <td>...</td>\n",
       "      <td>...</td>\n",
       "      <td>...</td>\n",
       "      <td>...</td>\n",
       "      <td>...</td>\n",
       "      <td>...</td>\n",
       "      <td>...</td>\n",
       "      <td>...</td>\n",
       "    </tr>\n",
       "    <tr>\n",
       "      <th>GKDiving</th>\n",
       "      <td>0.102551</td>\n",
       "      <td>-0.026269</td>\n",
       "      <td>-0.055199</td>\n",
       "      <td>-0.043305</td>\n",
       "      <td>-0.027915</td>\n",
       "      <td>-0.676293</td>\n",
       "      <td>0.008148</td>\n",
       "      <td>-0.232643</td>\n",
       "      <td>-0.623926</td>\n",
       "      <td>-0.081399</td>\n",
       "      <td>...</td>\n",
       "      <td>-0.619522</td>\n",
       "      <td>-0.380001</td>\n",
       "      <td>-0.550802</td>\n",
       "      <td>-0.530872</td>\n",
       "      <td>-0.509305</td>\n",
       "      <td>1.000000</td>\n",
       "      <td>0.970028</td>\n",
       "      <td>0.965640</td>\n",
       "      <td>0.969679</td>\n",
       "      <td>0.973150</td>\n",
       "    </tr>\n",
       "    <tr>\n",
       "      <th>GKHandling</th>\n",
       "      <td>0.107679</td>\n",
       "      <td>-0.025808</td>\n",
       "      <td>-0.056923</td>\n",
       "      <td>-0.044086</td>\n",
       "      <td>-0.028750</td>\n",
       "      <td>-0.675547</td>\n",
       "      <td>0.006906</td>\n",
       "      <td>-0.233973</td>\n",
       "      <td>-0.622049</td>\n",
       "      <td>-0.079774</td>\n",
       "      <td>...</td>\n",
       "      <td>-0.618546</td>\n",
       "      <td>-0.377332</td>\n",
       "      <td>-0.552226</td>\n",
       "      <td>-0.532130</td>\n",
       "      <td>-0.510676</td>\n",
       "      <td>0.970028</td>\n",
       "      <td>1.000000</td>\n",
       "      <td>0.965154</td>\n",
       "      <td>0.969227</td>\n",
       "      <td>0.970028</td>\n",
       "    </tr>\n",
       "    <tr>\n",
       "      <th>GKKicking</th>\n",
       "      <td>0.106146</td>\n",
       "      <td>-0.029866</td>\n",
       "      <td>-0.061068</td>\n",
       "      <td>-0.044510</td>\n",
       "      <td>-0.032664</td>\n",
       "      <td>-0.672031</td>\n",
       "      <td>0.003353</td>\n",
       "      <td>-0.229957</td>\n",
       "      <td>-0.619191</td>\n",
       "      <td>-0.077986</td>\n",
       "      <td>...</td>\n",
       "      <td>-0.613430</td>\n",
       "      <td>-0.376340</td>\n",
       "      <td>-0.549600</td>\n",
       "      <td>-0.531222</td>\n",
       "      <td>-0.509576</td>\n",
       "      <td>0.965640</td>\n",
       "      <td>0.965154</td>\n",
       "      <td>1.000000</td>\n",
       "      <td>0.964213</td>\n",
       "      <td>0.966258</td>\n",
       "    </tr>\n",
       "    <tr>\n",
       "      <th>GKPositioning</th>\n",
       "      <td>0.117873</td>\n",
       "      <td>-0.018112</td>\n",
       "      <td>-0.054667</td>\n",
       "      <td>-0.044347</td>\n",
       "      <td>-0.028860</td>\n",
       "      <td>-0.669928</td>\n",
       "      <td>0.010030</td>\n",
       "      <td>-0.232377</td>\n",
       "      <td>-0.620994</td>\n",
       "      <td>-0.080537</td>\n",
       "      <td>...</td>\n",
       "      <td>-0.616457</td>\n",
       "      <td>-0.371558</td>\n",
       "      <td>-0.546582</td>\n",
       "      <td>-0.527740</td>\n",
       "      <td>-0.505817</td>\n",
       "      <td>0.969679</td>\n",
       "      <td>0.969227</td>\n",
       "      <td>0.964213</td>\n",
       "      <td>1.000000</td>\n",
       "      <td>0.969901</td>\n",
       "    </tr>\n",
       "    <tr>\n",
       "      <th>GKReflexes</th>\n",
       "      <td>0.104337</td>\n",
       "      <td>-0.023936</td>\n",
       "      <td>-0.055364</td>\n",
       "      <td>-0.045755</td>\n",
       "      <td>-0.028893</td>\n",
       "      <td>-0.674982</td>\n",
       "      <td>0.006248</td>\n",
       "      <td>-0.233581</td>\n",
       "      <td>-0.623931</td>\n",
       "      <td>-0.080213</td>\n",
       "      <td>...</td>\n",
       "      <td>-0.618500</td>\n",
       "      <td>-0.379254</td>\n",
       "      <td>-0.551385</td>\n",
       "      <td>-0.531628</td>\n",
       "      <td>-0.509679</td>\n",
       "      <td>0.973150</td>\n",
       "      <td>0.970028</td>\n",
       "      <td>0.966258</td>\n",
       "      <td>0.969901</td>\n",
       "      <td>1.000000</td>\n",
       "    </tr>\n",
       "  </tbody>\n",
       "</table>\n",
       "<p>72 rows × 72 columns</p>\n",
       "</div>"
      ],
      "text/plain": [
       "                    Age   Overall  Potential     Value      Wage   Special  \\\n",
       "Age            1.000000  0.459628  -0.257816  0.078374  0.153749  0.237507   \n",
       "Overall        0.459628  1.000000   0.649617  0.570839  0.576285  0.603826   \n",
       "Potential     -0.257816  0.649617   1.000000  0.511883  0.480792  0.376198   \n",
       "Value          0.078374  0.570839   0.511883  1.000000  0.481467  0.364971   \n",
       "Wage           0.153749  0.576285   0.480792  0.481467  1.000000  0.353151   \n",
       "...                 ...       ...        ...       ...       ...       ...   \n",
       "GKDiving       0.102551 -0.026269  -0.055199 -0.043305 -0.027915 -0.676293   \n",
       "GKHandling     0.107679 -0.025808  -0.056923 -0.044086 -0.028750 -0.675547   \n",
       "GKKicking      0.106146 -0.029866  -0.061068 -0.044510 -0.032664 -0.672031   \n",
       "GKPositioning  0.117873 -0.018112  -0.054667 -0.044347 -0.028860 -0.669928   \n",
       "GKReflexes     0.104337 -0.023936  -0.055364 -0.045755 -0.028893 -0.674982   \n",
       "\n",
       "               International Reputation  Weak Foot  Skill Moves  Position  \\\n",
       "Age                            0.261838   0.060702     0.026364 -0.096419   \n",
       "Overall                        0.477755   0.206348     0.407901 -0.015547   \n",
       "Potential                      0.345268   0.154750     0.347318  0.047979   \n",
       "Value                          0.370901   0.142595     0.299787  0.049437   \n",
       "Wage                           0.641264   0.136714     0.259518  0.026493   \n",
       "...                                 ...        ...          ...       ...   \n",
       "GKDiving                       0.008148  -0.232643    -0.623926 -0.081399   \n",
       "GKHandling                     0.006906  -0.233973    -0.622049 -0.079774   \n",
       "GKKicking                      0.003353  -0.229957    -0.619191 -0.077986   \n",
       "GKPositioning                  0.010030  -0.232377    -0.620994 -0.080537   \n",
       "GKReflexes                     0.006248  -0.233581    -0.623931 -0.080213   \n",
       "\n",
       "               ...  Penalties  Composure   Marking  StandingTackle  \\\n",
       "Age            ...   0.139270   0.393419  0.143299        0.120461   \n",
       "Overall        ...   0.337679   0.723059  0.288116        0.255165   \n",
       "Potential      ...   0.218829   0.428287  0.161299        0.143066   \n",
       "Value          ...   0.223764   0.417146  0.149227        0.131512   \n",
       "Wage           ...   0.224474   0.420766  0.157037        0.139313   \n",
       "...            ...        ...        ...       ...             ...   \n",
       "GKDiving       ...  -0.619522  -0.380001 -0.550802       -0.530872   \n",
       "GKHandling     ...  -0.618546  -0.377332 -0.552226       -0.532130   \n",
       "GKKicking      ...  -0.613430  -0.376340 -0.549600       -0.531222   \n",
       "GKPositioning  ...  -0.616457  -0.371558 -0.546582       -0.527740   \n",
       "GKReflexes     ...  -0.618500  -0.379254 -0.551385       -0.531628   \n",
       "\n",
       "               SlidingTackle  GKDiving  GKHandling  GKKicking  GKPositioning  \\\n",
       "Age                 0.103721  0.102551    0.107679   0.106146       0.117873   \n",
       "Overall             0.225908 -0.026269   -0.025808  -0.029866      -0.018112   \n",
       "Potential           0.129435 -0.055199   -0.056923  -0.061068      -0.054667   \n",
       "Value               0.111802 -0.043305   -0.044086  -0.044510      -0.044347   \n",
       "Wage                0.124449 -0.027915   -0.028750  -0.032664      -0.028860   \n",
       "...                      ...       ...         ...        ...            ...   \n",
       "GKDiving           -0.509305  1.000000    0.970028   0.965640       0.969679   \n",
       "GKHandling         -0.510676  0.970028    1.000000   0.965154       0.969227   \n",
       "GKKicking          -0.509576  0.965640    0.965154   1.000000       0.964213   \n",
       "GKPositioning      -0.505817  0.969679    0.969227   0.964213       1.000000   \n",
       "GKReflexes         -0.509679  0.973150    0.970028   0.966258       0.969901   \n",
       "\n",
       "               GKReflexes  \n",
       "Age              0.104337  \n",
       "Overall         -0.023936  \n",
       "Potential       -0.055364  \n",
       "Value           -0.045755  \n",
       "Wage            -0.028893  \n",
       "...                   ...  \n",
       "GKDiving         0.973150  \n",
       "GKHandling       0.970028  \n",
       "GKKicking        0.966258  \n",
       "GKPositioning    0.969901  \n",
       "GKReflexes       1.000000  \n",
       "\n",
       "[72 rows x 72 columns]"
      ]
     },
     "execution_count": 30,
     "metadata": {},
     "output_type": "execute_result"
    }
   ],
   "source": [
    "corr_mat = data.corr()\n",
    "corr_mat"
   ]
  },
  {
   "cell_type": "code",
   "execution_count": 31,
   "metadata": {},
   "outputs": [
    {
     "data": {
      "image/png": "[encoded data removed]",
      "text/plain": [
       "<Figure size 432x288 with 2 Axes>"
      ]
     },
     "metadata": {
      "needs_background": "light"
     },
     "output_type": "display_data"
    }
   ],
   "source": [
    "sns.heatmap(corr_mat, square=True, cmap='coolwarm')\n",
    "pass"
   ]
  },
  {
   "cell_type": "code",
   "execution_count": 32,
   "metadata": {},
   "outputs": [
    {
     "data": {
      "text/plain": [
       "LS          RS               1.000000\n",
       "LAM         RAM              1.000000\n",
       "LF          RF               1.000000\n",
       "LCB         CB               1.000000\n",
       "LW          RW               1.000000\n",
       "                               ...   \n",
       "CDM         Stamina          0.801403\n",
       "RDM         Stamina          0.801403\n",
       "FKAccuracy  LongShots        0.800549\n",
       "LB          SlidingTackle    0.800118\n",
       "RB          SlidingTackle    0.800118\n",
       "Length: 596, dtype: float64"
      ]
     },
     "execution_count": 32,
     "metadata": {},
     "output_type": "execute_result"
    }
   ],
   "source": [
    "corr_mat.where(np.triu(corr_mat > 0.8, k=1)).stack().sort_values(ascending=False)"
   ]
  },
  {
   "cell_type": "code",
   "execution_count": 33,
   "metadata": {},
   "outputs": [
    {
     "data": {
      "text/plain": [
       "54"
      ]
     },
     "execution_count": 33,
     "metadata": {},
     "output_type": "execute_result"
    }
   ],
   "source": [
    "correlated_features = set()\n",
    "for i in range(len(corr_mat.columns)): \n",
    "    for j in range(i): \n",
    "        if abs(corr_mat.iloc[i, j]) > 0.8:\n",
    "            colname = corr_mat.columns[i]\n",
    "            correlated_features.add(colname)\n",
    "len(correlated_features)"
   ]
  },
  {
   "cell_type": "code",
   "execution_count": 34,
   "metadata": {},
   "outputs": [
    {
     "name": "stdout",
     "output_type": "stream",
     "text": [
      "{'LM', 'Marking', 'StandingTackle', 'LS', 'RF', 'LCM', 'ST', 'CM', 'LongShots', 'Dribbling', 'HeadingAccuracy', 'LCB', 'Curve', 'FKAccuracy', 'Penalties', 'ShortPassing', 'ShotPower', 'RW', 'RWB', 'BallControl', 'LW', 'RAM', 'Interceptions', 'CAM', 'RS', 'RM', 'Volleys', 'GKDiving', 'Crossing', 'GKKicking', 'Finishing', 'RCM', 'RCB', 'LWB', 'GKReflexes', 'LDM', 'GKPositioning', 'RDM', 'Reactions', 'CDM', 'SprintSpeed', 'LAM', 'LongPassing', 'LF', 'Agility', 'CB', 'Stamina', 'Positioning', 'CF', 'RB', 'GKHandling', 'Aggression', 'LB', 'SlidingTackle'}\n"
     ]
    }
   ],
   "source": [
    "print(correlated_features)"
   ]
  },
  {
   "cell_type": "code",
   "execution_count": 35,
   "metadata": {},
   "outputs": [],
   "source": [
    "data.drop(labels=correlated_features, axis=1, inplace=True)"
   ]
  },
  {
   "cell_type": "code",
   "execution_count": 36,
   "metadata": {},
   "outputs": [
    {
     "data": {
      "text/plain": [
       "Series([], dtype: float64)"
      ]
     },
     "execution_count": 36,
     "metadata": {},
     "output_type": "execute_result"
    }
   ],
   "source": [
    "corr_mat = data.corr()\n",
    "corr_mat.where(np.triu(corr_mat > 0.8, k=1)).stack().sort_values(ascending=False)"
   ]
  },
  {
   "cell_type": "markdown",
   "metadata": {},
   "source": [
    "# Train/test separating"
   ]
  },
  {
   "cell_type": "code",
   "execution_count": 37,
   "metadata": {},
   "outputs": [],
   "source": [
    "y=data['Position']\n",
    "data.pop('Position')\n",
    "X=data"
   ]
  },
  {
   "cell_type": "code",
   "execution_count": 38,
   "metadata": {},
   "outputs": [
    {
     "data": {
      "text/plain": [
       "0    7268\n",
       "2    5334\n",
       "3    3368\n",
       "1    1995\n",
       "4      12\n",
       "Name: Position, dtype: int64"
      ]
     },
     "execution_count": 38,
     "metadata": {},
     "output_type": "execute_result"
    }
   ],
   "source": [
    "y.value_counts()"
   ]
  },
  {
   "cell_type": "markdown",
   "metadata": {},
   "source": [
    "### Normalization of quantitative features"
   ]
  },
  {
   "cell_type": "code",
   "execution_count": 39,
   "metadata": {},
   "outputs": [],
   "source": [
    "X_stand = (X - X.mean(axis = 0))/X.std(axis = 0)"
   ]
  },
  {
   "cell_type": "code",
   "execution_count": 40,
   "metadata": {},
   "outputs": [
    {
     "data": {
      "text/html": [
       "<div>\n",
       "<style scoped>\n",
       "    .dataframe tbody tr th:only-of-type {\n",
       "        vertical-align: middle;\n",
       "    }\n",
       "\n",
       "    .dataframe tbody tr th {\n",
       "        vertical-align: top;\n",
       "    }\n",
       "\n",
       "    .dataframe thead th {\n",
       "        text-align: right;\n",
       "    }\n",
       "</style>\n",
       "<table border=\"1\" class=\"dataframe\">\n",
       "  <thead>\n",
       "    <tr style=\"text-align: right;\">\n",
       "      <th></th>\n",
       "      <th>Age</th>\n",
       "      <th>Overall</th>\n",
       "      <th>Potential</th>\n",
       "      <th>Value</th>\n",
       "      <th>Wage</th>\n",
       "      <th>Special</th>\n",
       "      <th>International Reputation</th>\n",
       "      <th>Weak Foot</th>\n",
       "      <th>Skill Moves</th>\n",
       "      <th>Height</th>\n",
       "      <th>Weight</th>\n",
       "      <th>Acceleration</th>\n",
       "      <th>Balance</th>\n",
       "      <th>Jumping</th>\n",
       "      <th>Strength</th>\n",
       "      <th>Vision</th>\n",
       "      <th>Composure</th>\n",
       "    </tr>\n",
       "  </thead>\n",
       "  <tbody>\n",
       "    <tr>\n",
       "      <th>count</th>\n",
       "      <td>1.797700e+04</td>\n",
       "      <td>1.797700e+04</td>\n",
       "      <td>1.797700e+04</td>\n",
       "      <td>1.797700e+04</td>\n",
       "      <td>1.797700e+04</td>\n",
       "      <td>1.797700e+04</td>\n",
       "      <td>1.797700e+04</td>\n",
       "      <td>1.797700e+04</td>\n",
       "      <td>1.797700e+04</td>\n",
       "      <td>1.797700e+04</td>\n",
       "      <td>1.797700e+04</td>\n",
       "      <td>1.797700e+04</td>\n",
       "      <td>1.797700e+04</td>\n",
       "      <td>1.797700e+04</td>\n",
       "      <td>1.797700e+04</td>\n",
       "      <td>1.797700e+04</td>\n",
       "      <td>1.797700e+04</td>\n",
       "    </tr>\n",
       "    <tr>\n",
       "      <th>mean</th>\n",
       "      <td>-9.176259e-15</td>\n",
       "      <td>2.043406e-14</td>\n",
       "      <td>-6.902935e-15</td>\n",
       "      <td>-1.406680e-14</td>\n",
       "      <td>9.467799e-15</td>\n",
       "      <td>1.549458e-15</td>\n",
       "      <td>7.490657e-14</td>\n",
       "      <td>1.639691e-15</td>\n",
       "      <td>8.731166e-14</td>\n",
       "      <td>4.131245e-12</td>\n",
       "      <td>-2.192260e-13</td>\n",
       "      <td>-1.367151e-14</td>\n",
       "      <td>2.509058e-15</td>\n",
       "      <td>1.560852e-15</td>\n",
       "      <td>-5.777384e-15</td>\n",
       "      <td>2.158095e-14</td>\n",
       "      <td>-2.504347e-15</td>\n",
       "    </tr>\n",
       "    <tr>\n",
       "      <th>std</th>\n",
       "      <td>1.000000e+00</td>\n",
       "      <td>1.000000e+00</td>\n",
       "      <td>1.000000e+00</td>\n",
       "      <td>1.000000e+00</td>\n",
       "      <td>1.000000e+00</td>\n",
       "      <td>1.000000e+00</td>\n",
       "      <td>1.000000e+00</td>\n",
       "      <td>1.000000e+00</td>\n",
       "      <td>1.000000e+00</td>\n",
       "      <td>1.000000e+00</td>\n",
       "      <td>1.000000e+00</td>\n",
       "      <td>1.000000e+00</td>\n",
       "      <td>1.000000e+00</td>\n",
       "      <td>1.000000e+00</td>\n",
       "      <td>1.000000e+00</td>\n",
       "      <td>1.000000e+00</td>\n",
       "      <td>1.000000e+00</td>\n",
       "    </tr>\n",
       "    <tr>\n",
       "      <th>min</th>\n",
       "      <td>-1.950482e+00</td>\n",
       "      <td>-2.961652e+00</td>\n",
       "      <td>-3.845725e+00</td>\n",
       "      <td>-4.524030e-01</td>\n",
       "      <td>-4.773328e-01</td>\n",
       "      <td>-3.190991e+00</td>\n",
       "      <td>-2.821416e-01</td>\n",
       "      <td>-2.955343e+00</td>\n",
       "      <td>-1.811281e+00</td>\n",
       "      <td>-2.848699e+00</td>\n",
       "      <td>-3.617518e+00</td>\n",
       "      <td>-3.534365e+00</td>\n",
       "      <td>-3.412310e+00</td>\n",
       "      <td>-4.252011e+00</td>\n",
       "      <td>-3.864118e+00</td>\n",
       "      <td>-3.080395e+00</td>\n",
       "      <td>-4.104444e+00</td>\n",
       "    </tr>\n",
       "    <tr>\n",
       "      <th>25%</th>\n",
       "      <td>-8.814373e-01</td>\n",
       "      <td>-6.113075e-01</td>\n",
       "      <td>-7.014228e-01</td>\n",
       "      <td>-4.408231e-01</td>\n",
       "      <td>-4.250689e-01</td>\n",
       "      <td>-5.145139e-01</td>\n",
       "      <td>-2.821416e-01</td>\n",
       "      <td>8.341932e-02</td>\n",
       "      <td>-4.761955e-01</td>\n",
       "      <td>-8.400061e-01</td>\n",
       "      <td>-7.735553e-01</td>\n",
       "      <td>-5.094236e-01</td>\n",
       "      <td>-5.655281e-01</td>\n",
       "      <td>-6.026748e-01</td>\n",
       "      <td>-5.855882e-01</td>\n",
       "      <td>-6.619319e-01</td>\n",
       "      <td>-6.659045e-01</td>\n",
       "    </tr>\n",
       "    <tr>\n",
       "      <th>50%</th>\n",
       "      <td>-2.620132e-02</td>\n",
       "      <td>-2.372145e-02</td>\n",
       "      <td>-3.946453e-02</td>\n",
       "      <td>-4.263481e-01</td>\n",
       "      <td>-3.205409e-01</td>\n",
       "      <td>1.380155e-01</td>\n",
       "      <td>-2.821416e-01</td>\n",
       "      <td>8.341932e-02</td>\n",
       "      <td>-4.761955e-01</td>\n",
       "      <td>-1.552245e-01</td>\n",
       "      <td>-6.256454e-02</td>\n",
       "      <td>1.627855e-01</td>\n",
       "      <td>1.461674e-01</td>\n",
       "      <td>7.627146e-02</td>\n",
       "      <td>1.340891e-01</td>\n",
       "      <td>1.205120e-01</td>\n",
       "      <td>3.943685e-02</td>\n",
       "    </tr>\n",
       "    <tr>\n",
       "      <th>75%</th>\n",
       "      <td>6.152256e-01</td>\n",
       "      <td>7.107611e-01</td>\n",
       "      <td>6.224937e-01</td>\n",
       "      <td>4.939569e-02</td>\n",
       "      <td>-6.957094e-03</td>\n",
       "      <td>6.946932e-01</td>\n",
       "      <td>-2.821416e-01</td>\n",
       "      <td>8.341932e-02</td>\n",
       "      <td>8.588897e-01</td>\n",
       "      <td>6.208614e-01</td>\n",
       "      <td>6.484262e-01</td>\n",
       "      <td>7.005529e-01</td>\n",
       "      <td>7.155238e-01</td>\n",
       "      <td>6.703494e-01</td>\n",
       "      <td>6.938380e-01</td>\n",
       "      <td>7.606934e-01</td>\n",
       "      <td>7.447782e-01</td>\n",
       "    </tr>\n",
       "    <tr>\n",
       "      <th>max</th>\n",
       "      <td>4.249978e+00</td>\n",
       "      <td>4.089381e+00</td>\n",
       "      <td>3.932285e+00</td>\n",
       "      <td>9.390572e+00</td>\n",
       "      <td>2.330277e+01</td>\n",
       "      <td>2.762880e+00</td>\n",
       "      <td>1.042405e+01</td>\n",
       "      <td>3.122182e+00</td>\n",
       "      <td>3.529060e+00</td>\n",
       "      <td>2.553467e+00</td>\n",
       "      <td>4.979006e+00</td>\n",
       "      <td>2.179413e+00</td>\n",
       "      <td>2.281254e+00</td>\n",
       "      <td>2.537452e+00</td>\n",
       "      <td>2.533013e+00</td>\n",
       "      <td>2.894631e+00</td>\n",
       "      <td>3.213473e+00</td>\n",
       "    </tr>\n",
       "  </tbody>\n",
       "</table>\n",
       "</div>"
      ],
      "text/plain": [
       "                Age       Overall     Potential         Value          Wage  \\\n",
       "count  1.797700e+04  1.797700e+04  1.797700e+04  1.797700e+04  1.797700e+04   \n",
       "mean  -9.176259e-15  2.043406e-14 -6.902935e-15 -1.406680e-14  9.467799e-15   \n",
       "std    1.000000e+00  1.000000e+00  1.000000e+00  1.000000e+00  1.000000e+00   \n",
       "min   -1.950482e+00 -2.961652e+00 -3.845725e+00 -4.524030e-01 -4.773328e-01   \n",
       "25%   -8.814373e-01 -6.113075e-01 -7.014228e-01 -4.408231e-01 -4.250689e-01   \n",
       "50%   -2.620132e-02 -2.372145e-02 -3.946453e-02 -4.263481e-01 -3.205409e-01   \n",
       "75%    6.152256e-01  7.107611e-01  6.224937e-01  4.939569e-02 -6.957094e-03   \n",
       "max    4.249978e+00  4.089381e+00  3.932285e+00  9.390572e+00  2.330277e+01   \n",
       "\n",
       "            Special  International Reputation     Weak Foot   Skill Moves  \\\n",
       "count  1.797700e+04              1.797700e+04  1.797700e+04  1.797700e+04   \n",
       "mean   1.549458e-15              7.490657e-14  1.639691e-15  8.731166e-14   \n",
       "std    1.000000e+00              1.000000e+00  1.000000e+00  1.000000e+00   \n",
       "min   -3.190991e+00             -2.821416e-01 -2.955343e+00 -1.811281e+00   \n",
       "25%   -5.145139e-01             -2.821416e-01  8.341932e-02 -4.761955e-01   \n",
       "50%    1.380155e-01             -2.821416e-01  8.341932e-02 -4.761955e-01   \n",
       "75%    6.946932e-01             -2.821416e-01  8.341932e-02  8.588897e-01   \n",
       "max    2.762880e+00              1.042405e+01  3.122182e+00  3.529060e+00   \n",
       "\n",
       "             Height        Weight  Acceleration       Balance       Jumping  \\\n",
       "count  1.797700e+04  1.797700e+04  1.797700e+04  1.797700e+04  1.797700e+04   \n",
       "mean   4.131245e-12 -2.192260e-13 -1.367151e-14  2.509058e-15  1.560852e-15   \n",
       "std    1.000000e+00  1.000000e+00  1.000000e+00  1.000000e+00  1.000000e+00   \n",
       "min   -2.848699e+00 -3.617518e+00 -3.534365e+00 -3.412310e+00 -4.252011e+00   \n",
       "25%   -8.400061e-01 -7.735553e-01 -5.094236e-01 -5.655281e-01 -6.026748e-01   \n",
       "50%   -1.552245e-01 -6.256454e-02  1.627855e-01  1.461674e-01  7.627146e-02   \n",
       "75%    6.208614e-01  6.484262e-01  7.005529e-01  7.155238e-01  6.703494e-01   \n",
       "max    2.553467e+00  4.979006e+00  2.179413e+00  2.281254e+00  2.537452e+00   \n",
       "\n",
       "           Strength        Vision     Composure  \n",
       "count  1.797700e+04  1.797700e+04  1.797700e+04  \n",
       "mean  -5.777384e-15  2.158095e-14 -2.504347e-15  \n",
       "std    1.000000e+00  1.000000e+00  1.000000e+00  \n",
       "min   -3.864118e+00 -3.080395e+00 -4.104444e+00  \n",
       "25%   -5.855882e-01 -6.619319e-01 -6.659045e-01  \n",
       "50%    1.340891e-01  1.205120e-01  3.943685e-02  \n",
       "75%    6.938380e-01  7.606934e-01  7.447782e-01  \n",
       "max    2.533013e+00  2.894631e+00  3.213473e+00  "
      ]
     },
     "execution_count": 40,
     "metadata": {},
     "output_type": "execute_result"
    }
   ],
   "source": [
    "X_stand.describe()"
   ]
  },
  {
   "cell_type": "code",
   "execution_count": 41,
   "metadata": {},
   "outputs": [],
   "source": [
    "from sklearn.model_selection import train_test_split\n",
    "X_train, X_test, y_train, y_test = train_test_split(X_stand, y, test_size=0.25,stratify=y, random_state=42)"
   ]
  },
  {
   "cell_type": "markdown",
   "metadata": {},
   "source": [
    "# Training and Evaluting Model "
   ]
  },
  {
   "cell_type": "code",
   "execution_count": 42,
   "metadata": {},
   "outputs": [],
   "source": [
    "from sklearn.model_selection import GridSearchCV\n",
    "from sklearn.model_selection import cross_val_score\n",
    "from sklearn.metrics import confusion_matrix\n",
    "from sklearn.metrics import accuracy_score\n",
    "from sklearn.metrics import f1_score\n",
    "from sklearn.metrics import precision_score\n",
    "from sklearn.metrics import recall_score"
   ]
  },
  {
   "cell_type": "markdown",
   "metadata": {},
   "source": [
    "## KNN"
   ]
  },
  {
   "cell_type": "code",
   "execution_count": 43,
   "metadata": {},
   "outputs": [
    {
     "data": {
      "text/plain": [
       "KNeighborsClassifier()"
      ]
     },
     "execution_count": 43,
     "metadata": {},
     "output_type": "execute_result"
    }
   ],
   "source": [
    "from sklearn.neighbors import KNeighborsClassifier\n",
    "from sklearn.model_selection import ShuffleSplit\n",
    "clf = KNeighborsClassifier()\n",
    "clf.fit(X_train, y_train)"
   ]
  },
  {
   "cell_type": "code",
   "execution_count": 48,
   "metadata": {},
   "outputs": [
    {
     "name": "stderr",
     "output_type": "stream",
     "text": [
      "C:\\ANACONDA\\lib\\site-packages\\sklearn\\base.py:441: UserWarning: X does not have valid feature names, but KNeighborsClassifier was fitted with feature names\n",
      "  warnings.warn(\n"
     ]
    },
    {
     "name": "stdout",
     "output_type": "stream",
     "text": [
      "recall test:  0.5456007495634243\n",
      "presion test:  0.5654842041884136\n",
      "f1_score test:  0.5456179261327498\n"
     ]
    },
    {
     "name": "stderr",
     "output_type": "stream",
     "text": [
      "C:\\ANACONDA\\lib\\site-packages\\sklearn\\metrics\\_classification.py:1308: UndefinedMetricWarning: Precision is ill-defined and being set to 0.0 in labels with no predicted samples. Use `zero_division` parameter to control this behavior.\n",
      "  _warn_prf(average, modifier, msg_start, len(result))\n"
     ]
    }
   ],
   "source": [
    "y_pred=clf.predict(X_test)\n",
    "\n",
    "print(\"recall test: \",recall_score(y_test.values, y_pred,average='macro'))\n",
    "print(\"presion test: \",precision_score(y_test.values,y_pred ,average='macro'))\n",
    "print(\"f1_score test: \",f1_score(y_test.values, y_pred,average='macro'))"
   ]
  },
  {
   "cell_type": "code",
   "execution_count": 49,
   "metadata": {},
   "outputs": [
    {
     "data": {
      "text/plain": [
       "array([[1456,    1,  268,   92,    0],\n",
       "       [   4,  495,    0,    0,    0],\n",
       "       [ 336,    0,  892,  106,    0],\n",
       "       [ 318,    0,  300,  224,    0],\n",
       "       [   2,    0,    1,    0,    0]], dtype=int64)"
      ]
     },
     "execution_count": 49,
     "metadata": {},
     "output_type": "execute_result"
    }
   ],
   "source": [
    "confusion_matrix(y_test.values, y_pred)\n",
    "conf_mx = confusion_matrix(y_test.values, y_pred) \n",
    "conf_mx"
   ]
  },
  {
   "cell_type": "code",
   "execution_count": 51,
   "metadata": {},
   "outputs": [
    {
     "data": {
      "image/png": "[encoded data removed]",
      "text/plain": [
       "<Figure size 288x288 with 1 Axes>"
      ]
     },
     "metadata": {
      "needs_background": "light"
     },
     "output_type": "display_data"
    }
   ],
   "source": [
    "plt.matshow(conf_mx, cmap=plt.cm.Blues) \n",
    "plt.show() "
   ]
  },
  {
   "cell_type": "markdown",
   "metadata": {},
   "source": [
    "### RandomForest"
   ]
  },
  {
   "cell_type": "code",
   "execution_count": 52,
   "metadata": {},
   "outputs": [
    {
     "data": {
      "text/plain": [
       "RandomForestClassifier()"
      ]
     },
     "execution_count": 52,
     "metadata": {},
     "output_type": "execute_result"
    }
   ],
   "source": [
    "from sklearn.ensemble import RandomForestClassifier\n",
    "\n",
    "clf = RandomForestClassifier()\n",
    "clf.fit(X_train, y_train)"
   ]
  },
  {
   "cell_type": "code",
   "execution_count": 53,
   "metadata": {},
   "outputs": [
    {
     "name": "stdout",
     "output_type": "stream",
     "text": [
      "recall test:  0.6018763867412336\n",
      "presion test:  0.6297302040064667\n",
      "f1_score test:  0.605844785822957\n"
     ]
    },
    {
     "name": "stderr",
     "output_type": "stream",
     "text": [
      "C:\\ANACONDA\\lib\\site-packages\\sklearn\\metrics\\_classification.py:1308: UndefinedMetricWarning: Precision is ill-defined and being set to 0.0 in labels with no predicted samples. Use `zero_division` parameter to control this behavior.\n",
      "  _warn_prf(average, modifier, msg_start, len(result))\n"
     ]
    }
   ],
   "source": [
    "y_pred=clf.predict(X_test)\n",
    "\n",
    "print(\"recall test: \",recall_score(y_test.values, y_pred,average='macro'))\n",
    "print(\"presion test: \",precision_score(y_test.values,y_pred ,average='macro'))\n",
    "print(\"f1_score test: \",f1_score(y_test.values, y_pred,average='macro'))"
   ]
  },
  {
   "cell_type": "code",
   "execution_count": 54,
   "metadata": {},
   "outputs": [
    {
     "data": {
      "text/plain": [
       "array([[1490,    0,  272,   55,    0],\n",
       "       [   0,  499,    0,    0,    0],\n",
       "       [ 217,    0, 1040,   77,    0],\n",
       "       [ 199,    0,  298,  345,    0],\n",
       "       [   1,    0,    1,    1,    0]], dtype=int64)"
      ]
     },
     "execution_count": 54,
     "metadata": {},
     "output_type": "execute_result"
    }
   ],
   "source": [
    "confusion_matrix(y_test.values, y_pred)\n",
    "conf_mx = confusion_matrix(y_test.values, y_pred) \n",
    "conf_mx"
   ]
  },
  {
   "cell_type": "code",
   "execution_count": 55,
   "metadata": {},
   "outputs": [
    {
     "data": {
      "image/png": "[encoded data removed]",
      "text/plain": [
       "<Figure size 288x288 with 1 Axes>"
      ]
     },
     "metadata": {
      "needs_background": "light"
     },
     "output_type": "display_data"
    }
   ],
   "source": [
    "plt.matshow(conf_mx, cmap=plt.cm.Blues) \n",
    "plt.show() "
   ]
  },
  {
   "cell_type": "markdown",
   "metadata": {},
   "source": [
    "### GradientBoostingClassifier"
   ]
  },
  {
   "cell_type": "code",
   "execution_count": 56,
   "metadata": {},
   "outputs": [
    {
     "data": {
      "text/plain": [
       "GradientBoostingClassifier()"
      ]
     },
     "execution_count": 56,
     "metadata": {},
     "output_type": "execute_result"
    }
   ],
   "source": [
    "from sklearn.ensemble import GradientBoostingClassifier\n",
    "clf = GradientBoostingClassifier()\n",
    "clf.fit(X_train, y_train)"
   ]
  },
  {
   "cell_type": "code",
   "execution_count": 57,
   "metadata": {},
   "outputs": [
    {
     "name": "stdout",
     "output_type": "stream",
     "text": [
      "recall test:  0.6790384461396892\n",
      "presion test:  0.8282096922879354\n",
      "f1_score test:  0.7163227586575546\n"
     ]
    }
   ],
   "source": [
    "y_pred=clf.predict(X_test)\n",
    "\n",
    "print(\"recall test: \",recall_score(y_test.values, y_pred,average='macro'))\n",
    "print(\"presion test: \",precision_score(y_test.values,y_pred ,average='macro'))\n",
    "print(\"f1_score test: \",f1_score(y_test.values, y_pred,average='macro'))\n"
   ]
  },
  {
   "cell_type": "code",
   "execution_count": 58,
   "metadata": {},
   "outputs": [
    {
     "data": {
      "text/plain": [
       "array([[1499,    0,  254,   64,    0],\n",
       "       [   0,  499,    0,    0,    0],\n",
       "       [ 206,    0, 1002,  126,    0],\n",
       "       [ 169,    0,  264,  409,    0],\n",
       "       [   1,    0,    1,    0,    1]], dtype=int64)"
      ]
     },
     "execution_count": 58,
     "metadata": {},
     "output_type": "execute_result"
    }
   ],
   "source": [
    "confusion_matrix(y_test.values, y_pred)\n",
    "conf_mx = confusion_matrix(y_test.values, y_pred)\n",
    "conf_mx"
   ]
  },
  {
   "cell_type": "code",
   "execution_count": 59,
   "metadata": {},
   "outputs": [
    {
     "data": {
      "image/png": "[encoded data removed]",
      "text/plain": [
       "<Figure size 288x288 with 1 Axes>"
      ]
     },
     "metadata": {
      "needs_background": "light"
     },
     "output_type": "display_data"
    }
   ],
   "source": [
    "plt.matshow(conf_mx, cmap=plt.cm.Blues) \n",
    "plt.show() "
   ]
  },
  {
   "cell_type": "code",
   "execution_count": null,
   "metadata": {},
   "outputs": [],
   "source": []
  }
 ],
 "metadata": {
  "kernelspec": {
   "display_name": "Python 3",
   "language": "python",
   "name": "python3"
  },
  "language_info": {
   "codemirror_mode": {
    "name": "ipython",
    "version": 3
   },
   "file_extension": ".py",
   "mimetype": "text/x-python",
   "name": "python",
   "nbconvert_exporter": "python",
   "pygments_lexer": "ipython3",
   "version": "3.8.3"
  }
 },
 "nbformat": 4,
 "nbformat_minor": 4
}
